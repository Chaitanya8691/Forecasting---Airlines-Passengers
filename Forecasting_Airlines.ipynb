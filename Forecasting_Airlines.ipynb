{
 "cells": [
  {
   "cell_type": "markdown",
   "id": "0071a03d",
   "metadata": {},
   "source": [
    "# Forecasting - Airlines Passengers"
   ]
  },
  {
   "cell_type": "markdown",
   "id": "da2f7ff9",
   "metadata": {},
   "source": [
    "### Forecast the Airlines Passengers. \n",
    "Prepare a document for each model explaining how many dummy variables you have created and RMSE value for each model. Finally which model you will use for Forecasting."
   ]
  },
  {
   "cell_type": "markdown",
   "id": "e2cf5410",
   "metadata": {},
   "source": [
    "### Step-1 : Import libraries"
   ]
  },
  {
   "cell_type": "code",
   "execution_count": 2,
   "id": "bf73d1cb",
   "metadata": {
    "ExecuteTime": {
     "end_time": "2023-02-11T09:40:21.518571Z",
     "start_time": "2023-02-11T09:39:32.205840Z"
    }
   },
   "outputs": [],
   "source": [
    "import pandas as pd\n",
    "import numpy as np\n",
    "import matplotlib.pyplot as plt\n",
    "import seaborn as sb\n",
    "from numpy import log\n",
    "from numpy import sqrt\n",
    "from sklearn.model_selection import train_test_split\n",
    "from scipy import stats\n",
    "import statsmodels.api as sm\n",
    "import statsmodels.formula.api as smf\n",
    "from statsmodels.tsa.arima.model import ARIMA\n",
    "from statsmodels.graphics.tsaplots import plot_predict\n",
    "from sklearn.metrics import mean_squared_error\n",
    "from pandas.plotting import lag_plot\n",
    "from statsmodels.tsa.seasonal import seasonal_decompose\n",
    "from statsmodels.tsa.holtwinters import SimpleExpSmoothing # SES\n",
    "from statsmodels.tsa.holtwinters import Holt # Holts Exponential Smoothing\n",
    "from statsmodels.tsa.holtwinters import ExponentialSmoothing  \n",
    "import statsmodels.graphics.tsaplots as tsa_plots\n",
    "sb.set_style('darkgrid')\n",
    "import warnings as warnings\n",
    "warnings.filterwarnings(\"ignore\")"
   ]
  },
  {
   "cell_type": "markdown",
   "id": "23e5d914",
   "metadata": {},
   "source": [
    "### Step-2 : Descriptive analysis"
   ]
  },
  {
   "cell_type": "markdown",
   "id": "9f55ab4f",
   "metadata": {},
   "source": [
    "### Step-2.1 : Working with Dataset"
   ]
  },
  {
   "cell_type": "markdown",
   "id": "30024290",
   "metadata": {},
   "source": [
    "#### Loading the Dataset"
   ]
  },
  {
   "cell_type": "code",
   "execution_count": 3,
   "id": "826ed971",
   "metadata": {
    "ExecuteTime": {
     "end_time": "2023-02-11T09:40:25.826677Z",
     "start_time": "2023-02-11T09:40:21.531851Z"
    }
   },
   "outputs": [],
   "source": [
    "# Importing the dataset\n",
    "ap_data = pd.read_excel(\"Airlines+Data.xlsx\")"
   ]
  },
  {
   "cell_type": "markdown",
   "id": "c5e8b654",
   "metadata": {},
   "source": [
    "#### Exploring the dataset"
   ]
  },
  {
   "cell_type": "code",
   "execution_count": 4,
   "id": "48a3e928",
   "metadata": {
    "ExecuteTime": {
     "end_time": "2023-02-11T09:40:25.920608Z",
     "start_time": "2023-02-11T09:40:25.837060Z"
    }
   },
   "outputs": [
    {
     "data": {
      "text/html": [
       "<div>\n",
       "<style scoped>\n",
       "    .dataframe tbody tr th:only-of-type {\n",
       "        vertical-align: middle;\n",
       "    }\n",
       "\n",
       "    .dataframe tbody tr th {\n",
       "        vertical-align: top;\n",
       "    }\n",
       "\n",
       "    .dataframe thead th {\n",
       "        text-align: right;\n",
       "    }\n",
       "</style>\n",
       "<table border=\"1\" class=\"dataframe\">\n",
       "  <thead>\n",
       "    <tr style=\"text-align: right;\">\n",
       "      <th></th>\n",
       "      <th>Month</th>\n",
       "      <th>Passengers</th>\n",
       "    </tr>\n",
       "  </thead>\n",
       "  <tbody>\n",
       "    <tr>\n",
       "      <th>0</th>\n",
       "      <td>1995-01-01</td>\n",
       "      <td>112</td>\n",
       "    </tr>\n",
       "    <tr>\n",
       "      <th>1</th>\n",
       "      <td>1995-02-01</td>\n",
       "      <td>118</td>\n",
       "    </tr>\n",
       "    <tr>\n",
       "      <th>2</th>\n",
       "      <td>1995-03-01</td>\n",
       "      <td>132</td>\n",
       "    </tr>\n",
       "    <tr>\n",
       "      <th>3</th>\n",
       "      <td>1995-04-01</td>\n",
       "      <td>129</td>\n",
       "    </tr>\n",
       "    <tr>\n",
       "      <th>4</th>\n",
       "      <td>1995-05-01</td>\n",
       "      <td>121</td>\n",
       "    </tr>\n",
       "    <tr>\n",
       "      <th>5</th>\n",
       "      <td>1995-06-01</td>\n",
       "      <td>135</td>\n",
       "    </tr>\n",
       "    <tr>\n",
       "      <th>6</th>\n",
       "      <td>1995-07-01</td>\n",
       "      <td>148</td>\n",
       "    </tr>\n",
       "    <tr>\n",
       "      <th>7</th>\n",
       "      <td>1995-08-01</td>\n",
       "      <td>148</td>\n",
       "    </tr>\n",
       "    <tr>\n",
       "      <th>8</th>\n",
       "      <td>1995-09-01</td>\n",
       "      <td>136</td>\n",
       "    </tr>\n",
       "    <tr>\n",
       "      <th>9</th>\n",
       "      <td>1995-10-01</td>\n",
       "      <td>119</td>\n",
       "    </tr>\n",
       "  </tbody>\n",
       "</table>\n",
       "</div>"
      ],
      "text/plain": [
       "       Month  Passengers\n",
       "0 1995-01-01         112\n",
       "1 1995-02-01         118\n",
       "2 1995-03-01         132\n",
       "3 1995-04-01         129\n",
       "4 1995-05-01         121\n",
       "5 1995-06-01         135\n",
       "6 1995-07-01         148\n",
       "7 1995-08-01         148\n",
       "8 1995-09-01         136\n",
       "9 1995-10-01         119"
      ]
     },
     "execution_count": 4,
     "metadata": {},
     "output_type": "execute_result"
    }
   ],
   "source": [
    "# Displaying first ten records\n",
    "ap_data.head(10)"
   ]
  },
  {
   "cell_type": "code",
   "execution_count": 5,
   "id": "9530e992",
   "metadata": {
    "ExecuteTime": {
     "end_time": "2023-02-11T09:40:25.951560Z",
     "start_time": "2023-02-11T09:40:25.932352Z"
    }
   },
   "outputs": [
    {
     "data": {
      "text/plain": [
       "(96, 2)"
      ]
     },
     "execution_count": 5,
     "metadata": {},
     "output_type": "execute_result"
    }
   ],
   "source": [
    "# Shape of the data\n",
    "ap_data.shape"
   ]
  },
  {
   "cell_type": "code",
   "execution_count": 6,
   "id": "85ecb66a",
   "metadata": {
    "ExecuteTime": {
     "end_time": "2023-02-11T09:40:26.060370Z",
     "start_time": "2023-02-11T09:40:25.962125Z"
    },
    "scrolled": true
   },
   "outputs": [
    {
     "data": {
      "text/html": [
       "<div>\n",
       "<style scoped>\n",
       "    .dataframe tbody tr th:only-of-type {\n",
       "        vertical-align: middle;\n",
       "    }\n",
       "\n",
       "    .dataframe tbody tr th {\n",
       "        vertical-align: top;\n",
       "    }\n",
       "\n",
       "    .dataframe thead th {\n",
       "        text-align: right;\n",
       "    }\n",
       "</style>\n",
       "<table border=\"1\" class=\"dataframe\">\n",
       "  <thead>\n",
       "    <tr style=\"text-align: right;\">\n",
       "      <th></th>\n",
       "      <th>Passengers</th>\n",
       "    </tr>\n",
       "  </thead>\n",
       "  <tbody>\n",
       "    <tr>\n",
       "      <th>count</th>\n",
       "      <td>96.000000</td>\n",
       "    </tr>\n",
       "    <tr>\n",
       "      <th>mean</th>\n",
       "      <td>213.708333</td>\n",
       "    </tr>\n",
       "    <tr>\n",
       "      <th>std</th>\n",
       "      <td>71.918216</td>\n",
       "    </tr>\n",
       "    <tr>\n",
       "      <th>min</th>\n",
       "      <td>104.000000</td>\n",
       "    </tr>\n",
       "    <tr>\n",
       "      <th>25%</th>\n",
       "      <td>156.000000</td>\n",
       "    </tr>\n",
       "    <tr>\n",
       "      <th>50%</th>\n",
       "      <td>200.000000</td>\n",
       "    </tr>\n",
       "    <tr>\n",
       "      <th>75%</th>\n",
       "      <td>264.750000</td>\n",
       "    </tr>\n",
       "    <tr>\n",
       "      <th>max</th>\n",
       "      <td>413.000000</td>\n",
       "    </tr>\n",
       "  </tbody>\n",
       "</table>\n",
       "</div>"
      ],
      "text/plain": [
       "       Passengers\n",
       "count   96.000000\n",
       "mean   213.708333\n",
       "std     71.918216\n",
       "min    104.000000\n",
       "25%    156.000000\n",
       "50%    200.000000\n",
       "75%    264.750000\n",
       "max    413.000000"
      ]
     },
     "execution_count": 6,
     "metadata": {},
     "output_type": "execute_result"
    }
   ],
   "source": [
    "# Summary of the data\n",
    "ap_data.describe()"
   ]
  },
  {
   "cell_type": "code",
   "execution_count": 7,
   "id": "fab60c59",
   "metadata": {
    "ExecuteTime": {
     "end_time": "2023-02-11T09:40:26.153781Z",
     "start_time": "2023-02-11T09:40:26.067652Z"
    }
   },
   "outputs": [
    {
     "name": "stdout",
     "output_type": "stream",
     "text": [
      "<class 'pandas.core.frame.DataFrame'>\n",
      "RangeIndex: 96 entries, 0 to 95\n",
      "Data columns (total 2 columns):\n",
      " #   Column      Non-Null Count  Dtype         \n",
      "---  ------      --------------  -----         \n",
      " 0   Month       96 non-null     datetime64[ns]\n",
      " 1   Passengers  96 non-null     int64         \n",
      "dtypes: datetime64[ns](1), int64(1)\n",
      "memory usage: 1.6 KB\n"
     ]
    }
   ],
   "source": [
    "# Check the data types\n",
    "ap_data.info()"
   ]
  },
  {
   "cell_type": "markdown",
   "id": "25cbd0ae",
   "metadata": {},
   "source": [
    "#### Modifying the dataset"
   ]
  },
  {
   "cell_type": "code",
   "execution_count": 8,
   "id": "672e93aa",
   "metadata": {
    "ExecuteTime": {
     "end_time": "2023-02-11T09:40:26.184797Z",
     "start_time": "2023-02-11T09:40:26.160079Z"
    }
   },
   "outputs": [],
   "source": [
    "ap_data.rename(columns = {\"Month\": \"date\",\"Passengers\":\"passengers\"}, inplace = True)"
   ]
  },
  {
   "cell_type": "markdown",
   "id": "8fc274b3",
   "metadata": {},
   "source": [
    "### Step-2.2 : Handling missing values"
   ]
  },
  {
   "cell_type": "code",
   "execution_count": 9,
   "id": "d1afc980",
   "metadata": {
    "ExecuteTime": {
     "end_time": "2023-02-11T09:40:26.215838Z",
     "start_time": "2023-02-11T09:40:26.189764Z"
    }
   },
   "outputs": [
    {
     "data": {
      "text/plain": [
       "date          0\n",
       "passengers    0\n",
       "dtype: int64"
      ]
     },
     "execution_count": 9,
     "metadata": {},
     "output_type": "execute_result"
    }
   ],
   "source": [
    "# Check for Null values\n",
    "ap_data.isnull().sum()"
   ]
  },
  {
   "cell_type": "code",
   "execution_count": 10,
   "id": "b4fa93bf",
   "metadata": {
    "ExecuteTime": {
     "end_time": "2023-02-11T09:40:26.246520Z",
     "start_time": "2023-02-11T09:40:26.221962Z"
    }
   },
   "outputs": [
    {
     "data": {
      "text/plain": [
       "(0, 2)"
      ]
     },
     "execution_count": 10,
     "metadata": {},
     "output_type": "execute_result"
    }
   ],
   "source": [
    "# Check for duplicate values\n",
    "ap_data[ap_data.duplicated()].shape"
   ]
  },
  {
   "cell_type": "code",
   "execution_count": 11,
   "id": "953f27b7",
   "metadata": {
    "ExecuteTime": {
     "end_time": "2023-02-11T09:40:26.276893Z",
     "start_time": "2023-02-11T09:40:26.254499Z"
    },
    "scrolled": true
   },
   "outputs": [
    {
     "data": {
      "text/html": [
       "<div>\n",
       "<style scoped>\n",
       "    .dataframe tbody tr th:only-of-type {\n",
       "        vertical-align: middle;\n",
       "    }\n",
       "\n",
       "    .dataframe tbody tr th {\n",
       "        vertical-align: top;\n",
       "    }\n",
       "\n",
       "    .dataframe thead th {\n",
       "        text-align: right;\n",
       "    }\n",
       "</style>\n",
       "<table border=\"1\" class=\"dataframe\">\n",
       "  <thead>\n",
       "    <tr style=\"text-align: right;\">\n",
       "      <th></th>\n",
       "      <th>date</th>\n",
       "      <th>passengers</th>\n",
       "    </tr>\n",
       "  </thead>\n",
       "  <tbody>\n",
       "  </tbody>\n",
       "</table>\n",
       "</div>"
      ],
      "text/plain": [
       "Empty DataFrame\n",
       "Columns: [date, passengers]\n",
       "Index: []"
      ]
     },
     "execution_count": 11,
     "metadata": {},
     "output_type": "execute_result"
    }
   ],
   "source": [
    "ap_data[ap_data.duplicated()]"
   ]
  },
  {
   "cell_type": "code",
   "execution_count": 12,
   "id": "c85d1898",
   "metadata": {
    "ExecuteTime": {
     "end_time": "2023-02-11T09:40:30.211337Z",
     "start_time": "2023-02-11T09:40:26.282062Z"
    },
    "scrolled": true
   },
   "outputs": [
    {
     "data": {
      "text/plain": [
       "<AxesSubplot:>"
      ]
     },
     "execution_count": 12,
     "metadata": {},
     "output_type": "execute_result"
    },
    {
     "data": {
      "image/png": "[encoded data removed]",
      "text/plain": [
       "<Figure size 432x288 with 1 Axes>"
      ]
     },
     "metadata": {},
     "output_type": "display_data"
    }
   ],
   "source": [
    "ap_data.passengers.plot()"
   ]
  },
  {
   "cell_type": "markdown",
   "id": "395fbf5c",
   "metadata": {},
   "source": [
    "### Step-3 : Feature Engineering"
   ]
  },
  {
   "cell_type": "code",
   "execution_count": 13,
   "id": "a73a7a85",
   "metadata": {
    "ExecuteTime": {
     "end_time": "2023-02-11T09:40:30.273099Z",
     "start_time": "2023-02-11T09:40:30.220917Z"
    }
   },
   "outputs": [
    {
     "data": {
      "text/html": [
       "<div>\n",
       "<style scoped>\n",
       "    .dataframe tbody tr th:only-of-type {\n",
       "        vertical-align: middle;\n",
       "    }\n",
       "\n",
       "    .dataframe tbody tr th {\n",
       "        vertical-align: top;\n",
       "    }\n",
       "\n",
       "    .dataframe thead th {\n",
       "        text-align: right;\n",
       "    }\n",
       "</style>\n",
       "<table border=\"1\" class=\"dataframe\">\n",
       "  <thead>\n",
       "    <tr style=\"text-align: right;\">\n",
       "      <th></th>\n",
       "      <th>date</th>\n",
       "      <th>passengers</th>\n",
       "    </tr>\n",
       "  </thead>\n",
       "  <tbody>\n",
       "    <tr>\n",
       "      <th>0</th>\n",
       "      <td>1995-01-01</td>\n",
       "      <td>112</td>\n",
       "    </tr>\n",
       "    <tr>\n",
       "      <th>1</th>\n",
       "      <td>1995-02-01</td>\n",
       "      <td>118</td>\n",
       "    </tr>\n",
       "    <tr>\n",
       "      <th>2</th>\n",
       "      <td>1995-03-01</td>\n",
       "      <td>132</td>\n",
       "    </tr>\n",
       "    <tr>\n",
       "      <th>3</th>\n",
       "      <td>1995-04-01</td>\n",
       "      <td>129</td>\n",
       "    </tr>\n",
       "    <tr>\n",
       "      <th>4</th>\n",
       "      <td>1995-05-01</td>\n",
       "      <td>121</td>\n",
       "    </tr>\n",
       "  </tbody>\n",
       "</table>\n",
       "</div>"
      ],
      "text/plain": [
       "        date  passengers\n",
       "0 1995-01-01         112\n",
       "1 1995-02-01         118\n",
       "2 1995-03-01         132\n",
       "3 1995-04-01         129\n",
       "4 1995-05-01         121"
      ]
     },
     "execution_count": 13,
     "metadata": {},
     "output_type": "execute_result"
    }
   ],
   "source": [
    "ap_data_mdf = ap_data.copy()\n",
    "ap_data_mdf.head()"
   ]
  },
  {
   "cell_type": "code",
   "execution_count": 14,
   "id": "21780b7d",
   "metadata": {
    "ExecuteTime": {
     "end_time": "2023-02-11T09:40:30.320450Z",
     "start_time": "2023-02-11T09:40:30.281289Z"
    },
    "scrolled": true
   },
   "outputs": [
    {
     "data": {
      "text/html": [
       "<div>\n",
       "<style scoped>\n",
       "    .dataframe tbody tr th:only-of-type {\n",
       "        vertical-align: middle;\n",
       "    }\n",
       "\n",
       "    .dataframe tbody tr th {\n",
       "        vertical-align: top;\n",
       "    }\n",
       "\n",
       "    .dataframe thead th {\n",
       "        text-align: right;\n",
       "    }\n",
       "</style>\n",
       "<table border=\"1\" class=\"dataframe\">\n",
       "  <thead>\n",
       "    <tr style=\"text-align: right;\">\n",
       "      <th></th>\n",
       "      <th>date</th>\n",
       "      <th>passengers</th>\n",
       "      <th>t</th>\n",
       "      <th>t_square</th>\n",
       "      <th>log_passengers</th>\n",
       "    </tr>\n",
       "  </thead>\n",
       "  <tbody>\n",
       "    <tr>\n",
       "      <th>0</th>\n",
       "      <td>1995-01-01</td>\n",
       "      <td>112</td>\n",
       "      <td>1</td>\n",
       "      <td>1</td>\n",
       "      <td>4.718499</td>\n",
       "    </tr>\n",
       "    <tr>\n",
       "      <th>1</th>\n",
       "      <td>1995-02-01</td>\n",
       "      <td>118</td>\n",
       "      <td>2</td>\n",
       "      <td>4</td>\n",
       "      <td>4.770685</td>\n",
       "    </tr>\n",
       "    <tr>\n",
       "      <th>2</th>\n",
       "      <td>1995-03-01</td>\n",
       "      <td>132</td>\n",
       "      <td>3</td>\n",
       "      <td>9</td>\n",
       "      <td>4.882802</td>\n",
       "    </tr>\n",
       "    <tr>\n",
       "      <th>3</th>\n",
       "      <td>1995-04-01</td>\n",
       "      <td>129</td>\n",
       "      <td>4</td>\n",
       "      <td>16</td>\n",
       "      <td>4.859812</td>\n",
       "    </tr>\n",
       "    <tr>\n",
       "      <th>4</th>\n",
       "      <td>1995-05-01</td>\n",
       "      <td>121</td>\n",
       "      <td>5</td>\n",
       "      <td>25</td>\n",
       "      <td>4.795791</td>\n",
       "    </tr>\n",
       "  </tbody>\n",
       "</table>\n",
       "</div>"
      ],
      "text/plain": [
       "        date  passengers  t  t_square  log_passengers\n",
       "0 1995-01-01         112  1         1        4.718499\n",
       "1 1995-02-01         118  2         4        4.770685\n",
       "2 1995-03-01         132  3         9        4.882802\n",
       "3 1995-04-01         129  4        16        4.859812\n",
       "4 1995-05-01         121  5        25        4.795791"
      ]
     },
     "execution_count": 14,
     "metadata": {},
     "output_type": "execute_result"
    }
   ],
   "source": [
    "t_list = [x for x in range(1,len(ap_data)+1)]\n",
    "ap_data_mdf['t'] = t_list\n",
    "\n",
    "ap_data_mdf['t_square'] = ap_data_mdf['t']*ap_data_mdf['t']\n",
    "\n",
    "#log transformation\n",
    "ap_data_mdf['log_passengers'] = log(ap_data.passengers)\n",
    "ap_data_mdf.head()"
   ]
  },
  {
   "cell_type": "code",
   "execution_count": 15,
   "id": "e42dfd84",
   "metadata": {
    "ExecuteTime": {
     "end_time": "2023-02-11T09:40:30.383637Z",
     "start_time": "2023-02-11T09:40:30.326419Z"
    }
   },
   "outputs": [
    {
     "data": {
      "text/html": [
       "<div>\n",
       "<style scoped>\n",
       "    .dataframe tbody tr th:only-of-type {\n",
       "        vertical-align: middle;\n",
       "    }\n",
       "\n",
       "    .dataframe tbody tr th {\n",
       "        vertical-align: top;\n",
       "    }\n",
       "\n",
       "    .dataframe thead th {\n",
       "        text-align: right;\n",
       "    }\n",
       "</style>\n",
       "<table border=\"1\" class=\"dataframe\">\n",
       "  <thead>\n",
       "    <tr style=\"text-align: right;\">\n",
       "      <th></th>\n",
       "      <th>date</th>\n",
       "      <th>passengers</th>\n",
       "      <th>t</th>\n",
       "      <th>t_square</th>\n",
       "      <th>log_passengers</th>\n",
       "      <th>months</th>\n",
       "      <th>year</th>\n",
       "    </tr>\n",
       "  </thead>\n",
       "  <tbody>\n",
       "    <tr>\n",
       "      <th>0</th>\n",
       "      <td>1995-01-01</td>\n",
       "      <td>112</td>\n",
       "      <td>1</td>\n",
       "      <td>1</td>\n",
       "      <td>4.718499</td>\n",
       "      <td>Jan</td>\n",
       "      <td>1995</td>\n",
       "    </tr>\n",
       "    <tr>\n",
       "      <th>1</th>\n",
       "      <td>1995-02-01</td>\n",
       "      <td>118</td>\n",
       "      <td>2</td>\n",
       "      <td>4</td>\n",
       "      <td>4.770685</td>\n",
       "      <td>Feb</td>\n",
       "      <td>1995</td>\n",
       "    </tr>\n",
       "    <tr>\n",
       "      <th>2</th>\n",
       "      <td>1995-03-01</td>\n",
       "      <td>132</td>\n",
       "      <td>3</td>\n",
       "      <td>9</td>\n",
       "      <td>4.882802</td>\n",
       "      <td>Mar</td>\n",
       "      <td>1995</td>\n",
       "    </tr>\n",
       "    <tr>\n",
       "      <th>3</th>\n",
       "      <td>1995-04-01</td>\n",
       "      <td>129</td>\n",
       "      <td>4</td>\n",
       "      <td>16</td>\n",
       "      <td>4.859812</td>\n",
       "      <td>Apr</td>\n",
       "      <td>1995</td>\n",
       "    </tr>\n",
       "    <tr>\n",
       "      <th>4</th>\n",
       "      <td>1995-05-01</td>\n",
       "      <td>121</td>\n",
       "      <td>5</td>\n",
       "      <td>25</td>\n",
       "      <td>4.795791</td>\n",
       "      <td>May</td>\n",
       "      <td>1995</td>\n",
       "    </tr>\n",
       "    <tr>\n",
       "      <th>...</th>\n",
       "      <td>...</td>\n",
       "      <td>...</td>\n",
       "      <td>...</td>\n",
       "      <td>...</td>\n",
       "      <td>...</td>\n",
       "      <td>...</td>\n",
       "      <td>...</td>\n",
       "    </tr>\n",
       "    <tr>\n",
       "      <th>91</th>\n",
       "      <td>2002-08-01</td>\n",
       "      <td>405</td>\n",
       "      <td>92</td>\n",
       "      <td>8464</td>\n",
       "      <td>6.003887</td>\n",
       "      <td>Aug</td>\n",
       "      <td>2002</td>\n",
       "    </tr>\n",
       "    <tr>\n",
       "      <th>92</th>\n",
       "      <td>2002-09-01</td>\n",
       "      <td>355</td>\n",
       "      <td>93</td>\n",
       "      <td>8649</td>\n",
       "      <td>5.872118</td>\n",
       "      <td>Sep</td>\n",
       "      <td>2002</td>\n",
       "    </tr>\n",
       "    <tr>\n",
       "      <th>93</th>\n",
       "      <td>2002-10-01</td>\n",
       "      <td>306</td>\n",
       "      <td>94</td>\n",
       "      <td>8836</td>\n",
       "      <td>5.723585</td>\n",
       "      <td>Oct</td>\n",
       "      <td>2002</td>\n",
       "    </tr>\n",
       "    <tr>\n",
       "      <th>94</th>\n",
       "      <td>2002-11-01</td>\n",
       "      <td>271</td>\n",
       "      <td>95</td>\n",
       "      <td>9025</td>\n",
       "      <td>5.602119</td>\n",
       "      <td>Nov</td>\n",
       "      <td>2002</td>\n",
       "    </tr>\n",
       "    <tr>\n",
       "      <th>95</th>\n",
       "      <td>2002-12-01</td>\n",
       "      <td>306</td>\n",
       "      <td>96</td>\n",
       "      <td>9216</td>\n",
       "      <td>5.723585</td>\n",
       "      <td>Dec</td>\n",
       "      <td>2002</td>\n",
       "    </tr>\n",
       "  </tbody>\n",
       "</table>\n",
       "<p>96 rows × 7 columns</p>\n",
       "</div>"
      ],
      "text/plain": [
       "         date  passengers   t  t_square  log_passengers months  year\n",
       "0  1995-01-01         112   1         1        4.718499    Jan  1995\n",
       "1  1995-02-01         118   2         4        4.770685    Feb  1995\n",
       "2  1995-03-01         132   3         9        4.882802    Mar  1995\n",
       "3  1995-04-01         129   4        16        4.859812    Apr  1995\n",
       "4  1995-05-01         121   5        25        4.795791    May  1995\n",
       "..        ...         ...  ..       ...             ...    ...   ...\n",
       "91 2002-08-01         405  92      8464        6.003887    Aug  2002\n",
       "92 2002-09-01         355  93      8649        5.872118    Sep  2002\n",
       "93 2002-10-01         306  94      8836        5.723585    Oct  2002\n",
       "94 2002-11-01         271  95      9025        5.602119    Nov  2002\n",
       "95 2002-12-01         306  96      9216        5.723585    Dec  2002\n",
       "\n",
       "[96 rows x 7 columns]"
      ]
     },
     "execution_count": 15,
     "metadata": {},
     "output_type": "execute_result"
    }
   ],
   "source": [
    "ap_data_mdf['months'] = ap_data['date'].dt.month_name() # saves months name from date\n",
    "ap_data_mdf['months'] = [x[0:3] for x in ap_data_mdf.months] # will take only first 3 chars of months like jan,feb\n",
    "ap_data_mdf['year']   = ap_data['date'].dt.year\n",
    "ap_data_mdf"
   ]
  },
  {
   "cell_type": "code",
   "execution_count": 16,
   "id": "0ce3893c",
   "metadata": {
    "ExecuteTime": {
     "end_time": "2023-02-11T09:40:30.461838Z",
     "start_time": "2023-02-11T09:40:30.388010Z"
    }
   },
   "outputs": [
    {
     "data": {
      "text/html": [
       "<div>\n",
       "<style scoped>\n",
       "    .dataframe tbody tr th:only-of-type {\n",
       "        vertical-align: middle;\n",
       "    }\n",
       "\n",
       "    .dataframe tbody tr th {\n",
       "        vertical-align: top;\n",
       "    }\n",
       "\n",
       "    .dataframe thead th {\n",
       "        text-align: right;\n",
       "    }\n",
       "</style>\n",
       "<table border=\"1\" class=\"dataframe\">\n",
       "  <thead>\n",
       "    <tr style=\"text-align: right;\">\n",
       "      <th></th>\n",
       "      <th>date</th>\n",
       "      <th>passengers</th>\n",
       "      <th>t</th>\n",
       "      <th>t_square</th>\n",
       "      <th>log_passengers</th>\n",
       "      <th>months</th>\n",
       "      <th>year</th>\n",
       "      <th>Jan</th>\n",
       "      <th>Feb</th>\n",
       "      <th>Mar</th>\n",
       "      <th>Apr</th>\n",
       "      <th>May</th>\n",
       "      <th>Jun</th>\n",
       "      <th>Jul</th>\n",
       "      <th>Aug</th>\n",
       "      <th>Sep</th>\n",
       "      <th>Oct</th>\n",
       "      <th>Nov</th>\n",
       "      <th>Dec</th>\n",
       "    </tr>\n",
       "  </thead>\n",
       "  <tbody>\n",
       "    <tr>\n",
       "      <th>0</th>\n",
       "      <td>1995-01-01</td>\n",
       "      <td>112</td>\n",
       "      <td>1</td>\n",
       "      <td>1</td>\n",
       "      <td>4.718499</td>\n",
       "      <td>Jan</td>\n",
       "      <td>1995</td>\n",
       "      <td>1</td>\n",
       "      <td>0</td>\n",
       "      <td>0</td>\n",
       "      <td>0</td>\n",
       "      <td>0</td>\n",
       "      <td>0</td>\n",
       "      <td>0</td>\n",
       "      <td>0</td>\n",
       "      <td>0</td>\n",
       "      <td>0</td>\n",
       "      <td>0</td>\n",
       "      <td>0</td>\n",
       "    </tr>\n",
       "    <tr>\n",
       "      <th>1</th>\n",
       "      <td>1995-02-01</td>\n",
       "      <td>118</td>\n",
       "      <td>2</td>\n",
       "      <td>4</td>\n",
       "      <td>4.770685</td>\n",
       "      <td>Feb</td>\n",
       "      <td>1995</td>\n",
       "      <td>0</td>\n",
       "      <td>1</td>\n",
       "      <td>0</td>\n",
       "      <td>0</td>\n",
       "      <td>0</td>\n",
       "      <td>0</td>\n",
       "      <td>0</td>\n",
       "      <td>0</td>\n",
       "      <td>0</td>\n",
       "      <td>0</td>\n",
       "      <td>0</td>\n",
       "      <td>0</td>\n",
       "    </tr>\n",
       "    <tr>\n",
       "      <th>2</th>\n",
       "      <td>1995-03-01</td>\n",
       "      <td>132</td>\n",
       "      <td>3</td>\n",
       "      <td>9</td>\n",
       "      <td>4.882802</td>\n",
       "      <td>Mar</td>\n",
       "      <td>1995</td>\n",
       "      <td>0</td>\n",
       "      <td>0</td>\n",
       "      <td>1</td>\n",
       "      <td>0</td>\n",
       "      <td>0</td>\n",
       "      <td>0</td>\n",
       "      <td>0</td>\n",
       "      <td>0</td>\n",
       "      <td>0</td>\n",
       "      <td>0</td>\n",
       "      <td>0</td>\n",
       "      <td>0</td>\n",
       "    </tr>\n",
       "    <tr>\n",
       "      <th>3</th>\n",
       "      <td>1995-04-01</td>\n",
       "      <td>129</td>\n",
       "      <td>4</td>\n",
       "      <td>16</td>\n",
       "      <td>4.859812</td>\n",
       "      <td>Apr</td>\n",
       "      <td>1995</td>\n",
       "      <td>0</td>\n",
       "      <td>0</td>\n",
       "      <td>0</td>\n",
       "      <td>1</td>\n",
       "      <td>0</td>\n",
       "      <td>0</td>\n",
       "      <td>0</td>\n",
       "      <td>0</td>\n",
       "      <td>0</td>\n",
       "      <td>0</td>\n",
       "      <td>0</td>\n",
       "      <td>0</td>\n",
       "    </tr>\n",
       "    <tr>\n",
       "      <th>4</th>\n",
       "      <td>1995-05-01</td>\n",
       "      <td>121</td>\n",
       "      <td>5</td>\n",
       "      <td>25</td>\n",
       "      <td>4.795791</td>\n",
       "      <td>May</td>\n",
       "      <td>1995</td>\n",
       "      <td>0</td>\n",
       "      <td>0</td>\n",
       "      <td>0</td>\n",
       "      <td>0</td>\n",
       "      <td>1</td>\n",
       "      <td>0</td>\n",
       "      <td>0</td>\n",
       "      <td>0</td>\n",
       "      <td>0</td>\n",
       "      <td>0</td>\n",
       "      <td>0</td>\n",
       "      <td>0</td>\n",
       "    </tr>\n",
       "    <tr>\n",
       "      <th>...</th>\n",
       "      <td>...</td>\n",
       "      <td>...</td>\n",
       "      <td>...</td>\n",
       "      <td>...</td>\n",
       "      <td>...</td>\n",
       "      <td>...</td>\n",
       "      <td>...</td>\n",
       "      <td>...</td>\n",
       "      <td>...</td>\n",
       "      <td>...</td>\n",
       "      <td>...</td>\n",
       "      <td>...</td>\n",
       "      <td>...</td>\n",
       "      <td>...</td>\n",
       "      <td>...</td>\n",
       "      <td>...</td>\n",
       "      <td>...</td>\n",
       "      <td>...</td>\n",
       "      <td>...</td>\n",
       "    </tr>\n",
       "    <tr>\n",
       "      <th>91</th>\n",
       "      <td>2002-08-01</td>\n",
       "      <td>405</td>\n",
       "      <td>92</td>\n",
       "      <td>8464</td>\n",
       "      <td>6.003887</td>\n",
       "      <td>Aug</td>\n",
       "      <td>2002</td>\n",
       "      <td>0</td>\n",
       "      <td>0</td>\n",
       "      <td>0</td>\n",
       "      <td>0</td>\n",
       "      <td>0</td>\n",
       "      <td>0</td>\n",
       "      <td>0</td>\n",
       "      <td>1</td>\n",
       "      <td>0</td>\n",
       "      <td>0</td>\n",
       "      <td>0</td>\n",
       "      <td>0</td>\n",
       "    </tr>\n",
       "    <tr>\n",
       "      <th>92</th>\n",
       "      <td>2002-09-01</td>\n",
       "      <td>355</td>\n",
       "      <td>93</td>\n",
       "      <td>8649</td>\n",
       "      <td>5.872118</td>\n",
       "      <td>Sep</td>\n",
       "      <td>2002</td>\n",
       "      <td>0</td>\n",
       "      <td>0</td>\n",
       "      <td>0</td>\n",
       "      <td>0</td>\n",
       "      <td>0</td>\n",
       "      <td>0</td>\n",
       "      <td>0</td>\n",
       "      <td>0</td>\n",
       "      <td>1</td>\n",
       "      <td>0</td>\n",
       "      <td>0</td>\n",
       "      <td>0</td>\n",
       "    </tr>\n",
       "    <tr>\n",
       "      <th>93</th>\n",
       "      <td>2002-10-01</td>\n",
       "      <td>306</td>\n",
       "      <td>94</td>\n",
       "      <td>8836</td>\n",
       "      <td>5.723585</td>\n",
       "      <td>Oct</td>\n",
       "      <td>2002</td>\n",
       "      <td>0</td>\n",
       "      <td>0</td>\n",
       "      <td>0</td>\n",
       "      <td>0</td>\n",
       "      <td>0</td>\n",
       "      <td>0</td>\n",
       "      <td>0</td>\n",
       "      <td>0</td>\n",
       "      <td>0</td>\n",
       "      <td>1</td>\n",
       "      <td>0</td>\n",
       "      <td>0</td>\n",
       "    </tr>\n",
       "    <tr>\n",
       "      <th>94</th>\n",
       "      <td>2002-11-01</td>\n",
       "      <td>271</td>\n",
       "      <td>95</td>\n",
       "      <td>9025</td>\n",
       "      <td>5.602119</td>\n",
       "      <td>Nov</td>\n",
       "      <td>2002</td>\n",
       "      <td>0</td>\n",
       "      <td>0</td>\n",
       "      <td>0</td>\n",
       "      <td>0</td>\n",
       "      <td>0</td>\n",
       "      <td>0</td>\n",
       "      <td>0</td>\n",
       "      <td>0</td>\n",
       "      <td>0</td>\n",
       "      <td>0</td>\n",
       "      <td>1</td>\n",
       "      <td>0</td>\n",
       "    </tr>\n",
       "    <tr>\n",
       "      <th>95</th>\n",
       "      <td>2002-12-01</td>\n",
       "      <td>306</td>\n",
       "      <td>96</td>\n",
       "      <td>9216</td>\n",
       "      <td>5.723585</td>\n",
       "      <td>Dec</td>\n",
       "      <td>2002</td>\n",
       "      <td>0</td>\n",
       "      <td>0</td>\n",
       "      <td>0</td>\n",
       "      <td>0</td>\n",
       "      <td>0</td>\n",
       "      <td>0</td>\n",
       "      <td>0</td>\n",
       "      <td>0</td>\n",
       "      <td>0</td>\n",
       "      <td>0</td>\n",
       "      <td>0</td>\n",
       "      <td>1</td>\n",
       "    </tr>\n",
       "  </tbody>\n",
       "</table>\n",
       "<p>96 rows × 19 columns</p>\n",
       "</div>"
      ],
      "text/plain": [
       "         date  passengers   t  t_square  log_passengers months  year  Jan  \\\n",
       "0  1995-01-01         112   1         1        4.718499    Jan  1995    1   \n",
       "1  1995-02-01         118   2         4        4.770685    Feb  1995    0   \n",
       "2  1995-03-01         132   3         9        4.882802    Mar  1995    0   \n",
       "3  1995-04-01         129   4        16        4.859812    Apr  1995    0   \n",
       "4  1995-05-01         121   5        25        4.795791    May  1995    0   \n",
       "..        ...         ...  ..       ...             ...    ...   ...  ...   \n",
       "91 2002-08-01         405  92      8464        6.003887    Aug  2002    0   \n",
       "92 2002-09-01         355  93      8649        5.872118    Sep  2002    0   \n",
       "93 2002-10-01         306  94      8836        5.723585    Oct  2002    0   \n",
       "94 2002-11-01         271  95      9025        5.602119    Nov  2002    0   \n",
       "95 2002-12-01         306  96      9216        5.723585    Dec  2002    0   \n",
       "\n",
       "    Feb  Mar  Apr  May  Jun  Jul  Aug  Sep  Oct  Nov  Dec  \n",
       "0     0    0    0    0    0    0    0    0    0    0    0  \n",
       "1     1    0    0    0    0    0    0    0    0    0    0  \n",
       "2     0    1    0    0    0    0    0    0    0    0    0  \n",
       "3     0    0    1    0    0    0    0    0    0    0    0  \n",
       "4     0    0    0    1    0    0    0    0    0    0    0  \n",
       "..  ...  ...  ...  ...  ...  ...  ...  ...  ...  ...  ...  \n",
       "91    0    0    0    0    0    0    1    0    0    0    0  \n",
       "92    0    0    0    0    0    0    0    1    0    0    0  \n",
       "93    0    0    0    0    0    0    0    0    1    0    0  \n",
       "94    0    0    0    0    0    0    0    0    0    1    0  \n",
       "95    0    0    0    0    0    0    0    0    0    0    1  \n",
       "\n",
       "[96 rows x 19 columns]"
      ]
     },
     "execution_count": 16,
     "metadata": {},
     "output_type": "execute_result"
    }
   ],
   "source": [
    "dummy = pd.DataFrame(pd.get_dummies(ap_data_mdf['months']))\n",
    "dummy.reindex(sorted(dummy.columns), axis=1)\n",
    "colsequence = ['Jan','Feb','Mar','Apr','May','Jun','Jul','Aug','Sep','Oct','Nov','Dec']\n",
    "dummy = dummy.reindex(columns=colsequence ) #sorts the column headings\n",
    "\n",
    "ap_data_mdf = pd.concat([ap_data_mdf,dummy], axis=1)\n",
    "ap_data_mdf"
   ]
  },
  {
   "cell_type": "markdown",
   "id": "017e9839",
   "metadata": {},
   "source": [
    "### Step-4 : Data Visualisation"
   ]
  },
  {
   "cell_type": "markdown",
   "id": "f10d6b98",
   "metadata": {
    "ExecuteTime": {
     "end_time": "2022-12-05T17:04:00.390367Z",
     "start_time": "2022-12-05T17:04:00.380837Z"
    }
   },
   "source": [
    "#### Heat map"
   ]
  },
  {
   "cell_type": "code",
   "execution_count": 17,
   "id": "9305dfb2",
   "metadata": {
    "ExecuteTime": {
     "end_time": "2023-02-11T09:40:32.374357Z",
     "start_time": "2023-02-11T09:40:30.466826Z"
    },
    "scrolled": true
   },
   "outputs": [
    {
     "data": {
      "text/plain": [
       "<AxesSubplot:xlabel='months', ylabel='year'>"
      ]
     },
     "execution_count": 17,
     "metadata": {},
     "output_type": "execute_result"
    },
    {
     "data": {
      "image/png": "[encoded data removed]",
      "text/plain": [
       "<Figure size 720x576 with 2 Axes>"
      ]
     },
     "metadata": {},
     "output_type": "display_data"
    }
   ],
   "source": [
    "heatmap_passengers = pd.pivot_table(data=ap_data_mdf,values='passengers',index='year',\n",
    "                                    columns='months',aggfunc='mean',fill_value=0)\n",
    "plt.figure(figsize=(10,8))\n",
    "sb.heatmap(data =heatmap_passengers , annot=True,fmt='g')"
   ]
  },
  {
   "cell_type": "markdown",
   "id": "efe57a6f",
   "metadata": {
    "ExecuteTime": {
     "end_time": "2022-12-05T17:04:37.956412Z",
     "start_time": "2022-12-05T17:04:37.947469Z"
    }
   },
   "source": [
    "#### Line plot"
   ]
  },
  {
   "cell_type": "code",
   "execution_count": 18,
   "id": "69232e0d",
   "metadata": {
    "ExecuteTime": {
     "end_time": "2023-02-11T09:40:32.934943Z",
     "start_time": "2023-02-11T09:40:32.379650Z"
    }
   },
   "outputs": [
    {
     "data": {
      "image/png": "[encoded data removed]",
      "text/plain": [
       "<Figure size 1440x576 with 1 Axes>"
      ]
     },
     "metadata": {},
     "output_type": "display_data"
    }
   ],
   "source": [
    "ap_data_mdf['passengers'].plot(figsize=(20, 8),color='red',marker='o')\n",
    "plt.show()"
   ]
  },
  {
   "cell_type": "markdown",
   "id": "e6aad8f9",
   "metadata": {
    "ExecuteTime": {
     "end_time": "2022-12-05T17:06:09.058543Z",
     "start_time": "2022-12-05T17:06:09.047514Z"
    }
   },
   "source": [
    "#### Box plot"
   ]
  },
  {
   "cell_type": "code",
   "execution_count": 19,
   "id": "8022a039",
   "metadata": {
    "ExecuteTime": {
     "end_time": "2023-02-11T09:40:34.548475Z",
     "start_time": "2023-02-11T09:40:32.942150Z"
    }
   },
   "outputs": [
    {
     "data": {
      "text/plain": [
       "<AxesSubplot:xlabel='year', ylabel='passengers'>"
      ]
     },
     "execution_count": 19,
     "metadata": {},
     "output_type": "execute_result"
    },
    {
     "data": {
      "image/png": "[encoded data removed]",
      "text/plain": [
       "<Figure size 1008x720 with 2 Axes>"
      ]
     },
     "metadata": {},
     "output_type": "display_data"
    }
   ],
   "source": [
    "plt.figure(figsize=(14,10))\n",
    "plt.subplot(211)\n",
    "sb.boxplot(x='months', y='passengers', data=ap_data_mdf)\n",
    "plt.subplot(212)\n",
    "sb.boxplot(x='year', y='passengers', data=ap_data_mdf)"
   ]
  },
  {
   "cell_type": "markdown",
   "id": "9482f7d7",
   "metadata": {},
   "source": [
    "#### Yearly Passengers plot"
   ]
  },
  {
   "cell_type": "code",
   "execution_count": 20,
   "id": "33553067",
   "metadata": {
    "ExecuteTime": {
     "end_time": "2023-02-11T09:40:35.744113Z",
     "start_time": "2023-02-11T09:40:34.554828Z"
    }
   },
   "outputs": [
    {
     "data": {
      "text/plain": [
       "<AxesSubplot:xlabel='year', ylabel='passengers'>"
      ]
     },
     "execution_count": 20,
     "metadata": {},
     "output_type": "execute_result"
    },
    {
     "data": {
      "image/png": "[encoded data removed]",
      "text/plain": [
       "<Figure size 432x288 with 1 Axes>"
      ]
     },
     "metadata": {},
     "output_type": "display_data"
    }
   ],
   "source": [
    "sb.lineplot(x='year',y='passengers',data=ap_data_mdf)"
   ]
  },
  {
   "cell_type": "markdown",
   "id": "a4a76eb6",
   "metadata": {
    "ExecuteTime": {
     "end_time": "2022-12-05T17:09:06.929908Z",
     "start_time": "2022-12-05T17:09:06.911303Z"
    }
   },
   "source": [
    "#### Monthly Passengers plot"
   ]
  },
  {
   "cell_type": "code",
   "execution_count": 21,
   "id": "29346f09",
   "metadata": {
    "ExecuteTime": {
     "end_time": "2023-02-11T09:40:37.465261Z",
     "start_time": "2023-02-11T09:40:35.752146Z"
    }
   },
   "outputs": [
    {
     "data": {
      "text/plain": [
       "<AxesSubplot:xlabel='months', ylabel='passengers'>"
      ]
     },
     "execution_count": 21,
     "metadata": {},
     "output_type": "execute_result"
    },
    {
     "data": {
      "image/png": "[encoded data removed]",
      "text/plain": [
       "<Figure size 432x288 with 1 Axes>"
      ]
     },
     "metadata": {},
     "output_type": "display_data"
    }
   ],
   "source": [
    "sb.lineplot(x='months',y='passengers',data=ap_data_mdf)"
   ]
  },
  {
   "cell_type": "markdown",
   "id": "0cab430d",
   "metadata": {
    "ExecuteTime": {
     "end_time": "2022-12-05T17:10:16.984047Z",
     "start_time": "2022-12-05T17:10:16.970122Z"
    }
   },
   "source": [
    "#### Histogram"
   ]
  },
  {
   "cell_type": "code",
   "execution_count": 22,
   "id": "3be710d0",
   "metadata": {
    "ExecuteTime": {
     "end_time": "2023-02-11T09:40:38.490355Z",
     "start_time": "2023-02-11T09:40:37.473285Z"
    }
   },
   "outputs": [
    {
     "data": {
      "image/png": "[encoded data removed]",
      "text/plain": [
       "<Figure size 864x432 with 1 Axes>"
      ]
     },
     "metadata": {},
     "output_type": "display_data"
    }
   ],
   "source": [
    "ap_data_mdf.passengers.hist(figsize=(12,6))\n",
    "plt.show()"
   ]
  },
  {
   "cell_type": "markdown",
   "id": "121c2ae8",
   "metadata": {
    "ExecuteTime": {
     "end_time": "2022-12-05T17:10:34.395129Z",
     "start_time": "2022-12-05T17:10:34.379172Z"
    }
   },
   "source": [
    "#### Density plot"
   ]
  },
  {
   "cell_type": "code",
   "execution_count": 23,
   "id": "a025063c",
   "metadata": {
    "ExecuteTime": {
     "end_time": "2023-02-11T09:40:39.236418Z",
     "start_time": "2023-02-11T09:40:38.498197Z"
    }
   },
   "outputs": [
    {
     "data": {
      "image/png": "[encoded data removed]",
      "text/plain": [
       "<Figure size 864x432 with 1 Axes>"
      ]
     },
     "metadata": {},
     "output_type": "display_data"
    }
   ],
   "source": [
    "ap_data_mdf.passengers.plot(kind='kde', figsize=(12,6))\n",
    "plt.show()"
   ]
  },
  {
   "cell_type": "markdown",
   "id": "a07f7258",
   "metadata": {
    "ExecuteTime": {
     "end_time": "2022-12-05T17:10:49.264709Z",
     "start_time": "2022-12-05T17:10:49.249674Z"
    }
   },
   "source": [
    "#### Lag plot"
   ]
  },
  {
   "cell_type": "code",
   "execution_count": 24,
   "id": "da8a1bd5",
   "metadata": {
    "ExecuteTime": {
     "end_time": "2023-02-11T09:40:40.028391Z",
     "start_time": "2023-02-11T09:40:39.245341Z"
    }
   },
   "outputs": [
    {
     "data": {
      "image/png": "[encoded data removed]",
      "text/plain": [
       "<Figure size 432x288 with 1 Axes>"
      ]
     },
     "metadata": {},
     "output_type": "display_data"
    }
   ],
   "source": [
    "lag_plot(ap_data_mdf.passengers)\n",
    "plt.show()"
   ]
  },
  {
   "cell_type": "markdown",
   "id": "10fe0b90",
   "metadata": {},
   "source": [
    "#### Plotting Moving Average"
   ]
  },
  {
   "cell_type": "code",
   "execution_count": 25,
   "id": "f0fc2401",
   "metadata": {
    "ExecuteTime": {
     "end_time": "2023-02-11T09:40:40.954998Z",
     "start_time": "2023-02-11T09:40:40.036720Z"
    }
   },
   "outputs": [
    {
     "data": {
      "text/plain": [
       "<matplotlib.legend.Legend at 0x28911329310>"
      ]
     },
     "execution_count": 25,
     "metadata": {},
     "output_type": "execute_result"
    },
    {
     "data": {
      "image/png": "[encoded data removed]",
      "text/plain": [
       "<Figure size 864x288 with 1 Axes>"
      ]
     },
     "metadata": {},
     "output_type": "display_data"
    }
   ],
   "source": [
    "plt.figure(figsize=(12,4))\n",
    "ap_data_mdf.passengers.plot(label=\"org\")\n",
    "for i in range(4,13,4):\n",
    "    ap_data_mdf[\"passengers\"].rolling(i).mean().plot(label=str(i))\n",
    "plt.legend(loc='best') "
   ]
  },
  {
   "cell_type": "markdown",
   "id": "1a9febcf",
   "metadata": {},
   "source": [
    "#### Time series decomposition plot "
   ]
  },
  {
   "cell_type": "code",
   "execution_count": 26,
   "id": "d4e2b9bc",
   "metadata": {
    "ExecuteTime": {
     "end_time": "2023-02-11T09:40:43.959972Z",
     "start_time": "2023-02-11T09:40:40.965542Z"
    }
   },
   "outputs": [
    {
     "data": {
      "image/png": "[encoded data removed]",
      "text/plain": [
       "<Figure size 864x864 with 4 Axes>"
      ]
     },
     "metadata": {},
     "output_type": "display_data"
    }
   ],
   "source": [
    "decompose_ts_add = seasonal_decompose(ap_data_mdf.passengers,period=12)\n",
    "with plt.rc_context():\n",
    "    plt.rc(\"figure\", figsize=(12,12))\n",
    "    decompose_ts_add.plot()\n",
    "    plt.show()"
   ]
  },
  {
   "cell_type": "markdown",
   "id": "809d45ab",
   "metadata": {},
   "source": [
    "### ACF plots and PACF plots"
   ]
  },
  {
   "cell_type": "code",
   "execution_count": 27,
   "id": "890f717e",
   "metadata": {
    "ExecuteTime": {
     "end_time": "2023-02-11T09:40:46.281519Z",
     "start_time": "2023-02-11T09:40:44.162977Z"
    }
   },
   "outputs": [
    {
     "data": {
      "image/png": "[encoded data removed]",
      "text/plain": [
       "<Figure size 864x288 with 1 Axes>"
      ]
     },
     "metadata": {},
     "output_type": "display_data"
    },
    {
     "data": {
      "image/png": "[encoded data removed]",
      "text/plain": [
       "<Figure size 864x288 with 1 Axes>"
      ]
     },
     "metadata": {},
     "output_type": "display_data"
    }
   ],
   "source": [
    "with plt.rc_context():\n",
    "    plt.rc(\"figure\", figsize=(12,4))\n",
    "    tsa_plots.plot_acf(ap_data_mdf.passengers,lags=95)\n",
    "    tsa_plots.plot_pacf(ap_data_mdf.passengers,lags=47)\n",
    "    plt.show()"
   ]
  },
  {
   "cell_type": "markdown",
   "id": "e18f5255",
   "metadata": {},
   "source": [
    "### Step-5 : Split the data into training and testing data"
   ]
  },
  {
   "cell_type": "code",
   "execution_count": 28,
   "id": "296cdd8a",
   "metadata": {
    "ExecuteTime": {
     "end_time": "2023-02-11T09:40:46.297275Z",
     "start_time": "2023-02-11T09:40:46.285548Z"
    }
   },
   "outputs": [
    {
     "name": "stdout",
     "output_type": "stream",
     "text": [
      "(76, 19)\n",
      "(20, 19)\n"
     ]
    }
   ],
   "source": [
    "x_train = ap_data_mdf.head(76)\n",
    "x_test  = ap_data_mdf.tail(20)\n",
    "print(x_train.shape)\n",
    "print(x_test.shape)"
   ]
  },
  {
   "cell_type": "markdown",
   "id": "964ec8c9",
   "metadata": {
    "ExecuteTime": {
     "end_time": "2022-12-04T15:29:57.095555Z",
     "start_time": "2022-12-04T15:29:57.076200Z"
    }
   },
   "source": [
    "### Step-6 : Build different models for Forecasting"
   ]
  },
  {
   "cell_type": "markdown",
   "id": "6c29f2a9",
   "metadata": {
    "ExecuteTime": {
     "end_time": "2022-12-05T18:10:22.651794Z",
     "start_time": "2022-12-05T18:10:22.639827Z"
    }
   },
   "source": [
    "#### Evaluation Metric MAPE"
   ]
  },
  {
   "cell_type": "code",
   "execution_count": 29,
   "id": "a0ed069a",
   "metadata": {
    "ExecuteTime": {
     "end_time": "2023-02-11T09:40:46.328230Z",
     "start_time": "2023-02-11T09:40:46.316633Z"
    }
   },
   "outputs": [],
   "source": [
    "def MAPE(pred,org):\n",
    "    temp = np.abs((pred-org)/org)*100\n",
    "    return np.mean(temp)"
   ]
  },
  {
   "cell_type": "markdown",
   "id": "451ae90a",
   "metadata": {},
   "source": [
    "### Step-6.1 : Data-Driven Techniques"
   ]
  },
  {
   "cell_type": "markdown",
   "id": "dbb828cd",
   "metadata": {},
   "source": [
    "#### Simple Exponential Method"
   ]
  },
  {
   "cell_type": "code",
   "execution_count": 30,
   "id": "c47ff19f",
   "metadata": {
    "ExecuteTime": {
     "end_time": "2023-02-11T09:40:46.390830Z",
     "start_time": "2023-02-11T09:40:46.336384Z"
    }
   },
   "outputs": [
    {
     "name": "stdout",
     "output_type": "stream",
     "text": [
      "Mean Absolute Percentage Error :  20.43\n",
      "Root Mean Square Error :  82.12\n"
     ]
    }
   ],
   "source": [
    "model_ses = SimpleExpSmoothing(x_train[\"passengers\"]).fit(smoothing_level=0.2)\n",
    "pred_ses = model_ses.predict(start = x_test.index[0],end = x_test.index[-1])\n",
    "mape_ses = np.round(MAPE(pred_ses,x_test.passengers),2)  \n",
    "rmse_ses = np.round(np.sqrt(mean_squared_error(pred_ses,x_test.passengers)),2)\n",
    "print(\"Mean Absolute Percentage Error : \",mape_ses)\n",
    "print(\"Root Mean Square Error : \",rmse_ses)"
   ]
  },
  {
   "cell_type": "markdown",
   "id": "bd41912c",
   "metadata": {},
   "source": [
    "#### Holt's Method (Double Exponential Method)"
   ]
  },
  {
   "cell_type": "code",
   "execution_count": 31,
   "id": "bb6a9f44",
   "metadata": {
    "ExecuteTime": {
     "end_time": "2023-02-11T09:40:46.436816Z",
     "start_time": "2023-02-11T09:40:46.394905Z"
    }
   },
   "outputs": [
    {
     "name": "stdout",
     "output_type": "stream",
     "text": [
      "Mean Absolute Percentage Error :  12.96\n",
      "Root Mean Square Error :  47.99\n"
     ]
    }
   ],
   "source": [
    "model_h = Holt(x_train[\"passengers\"]).fit(smoothing_level=0.8, smoothing_slope=0.2)\n",
    "pred_h = model_h.predict(start = x_test.index[0],end = x_test.index[-1])\n",
    "mape_h = np.round(MAPE(pred_h,x_test.passengers),2)\n",
    "rmse_h = np.round(np.sqrt(mean_squared_error(pred_h,x_test.passengers)),2)\n",
    "print(\"Mean Absolute Percentage Error : \",mape_h)\n",
    "print(\"Root Mean Square Error : \",rmse_h)"
   ]
  },
  {
   "cell_type": "markdown",
   "id": "26f5ca54",
   "metadata": {},
   "source": [
    "#### Holt-Winter's Exponential Smoothing with Additive Seasonality and Trend (Triple Exponential Method)"
   ]
  },
  {
   "cell_type": "code",
   "execution_count": 32,
   "id": "7082f788",
   "metadata": {
    "ExecuteTime": {
     "end_time": "2023-02-11T09:40:46.842202Z",
     "start_time": "2023-02-11T09:40:46.441980Z"
    }
   },
   "outputs": [
    {
     "name": "stdout",
     "output_type": "stream",
     "text": [
      "Mean Absolute Percentage Error :  8.72\n",
      "Root Mean Square Error :  37.73\n"
     ]
    }
   ],
   "source": [
    "model_hw_as_at = ExponentialSmoothing(x_train[\"passengers\"],seasonal=\"add\",trend=\"add\",seasonal_periods=12).fit(optimized=True)\n",
    "pred_hw_as_at = model_hw_as_at.predict(start = x_test.index[0],end = x_test.index[-1])\n",
    "mape_hw_as_at = np.round(MAPE(pred_hw_as_at,x_test.passengers),2)\n",
    "rmse_hw_as_at = np.round(np.sqrt(mean_squared_error(pred_hw_as_at,x_test.passengers)),2)\n",
    "print(\"Mean Absolute Percentage Error : \",mape_hw_as_at)\n",
    "print(\"Root Mean Square Error : \",rmse_hw_as_at)"
   ]
  },
  {
   "cell_type": "markdown",
   "id": "5368dcc8",
   "metadata": {},
   "source": [
    "#### Holt-Winter's Exponential Smoothing with Multiplicative Seasonality and Additive Trend (Triple Exponential Method)"
   ]
  },
  {
   "cell_type": "code",
   "execution_count": 33,
   "id": "0c007297",
   "metadata": {
    "ExecuteTime": {
     "end_time": "2023-02-11T09:40:47.366710Z",
     "start_time": "2023-02-11T09:40:46.847196Z"
    }
   },
   "outputs": [
    {
     "name": "stdout",
     "output_type": "stream",
     "text": [
      "Mean Absolute Percentage Error :  9.38\n",
      "Root Mean Square Error :  33.88\n"
     ]
    }
   ],
   "source": [
    "model_hw_ms_at = ExponentialSmoothing(x_train[\"passengers\"],seasonal=\"mul\",trend=\"add\",seasonal_periods=12).fit(optimized=True)\n",
    "pred_hw_ms_at = model_hw_ms_at.predict(start = x_test.index[0],end = x_test.index[-1])\n",
    "mape_hw_ms_at = np.round(MAPE(pred_hw_ms_at,x_test.passengers),2)\n",
    "rmse_hw_ms_at = np.round(np.sqrt(mean_squared_error(pred_hw_ms_at,x_test.passengers)),2)\n",
    "print(\"Mean Absolute Percentage Error : \",mape_hw_ms_at)\n",
    "print(\"Root Mean Square Error : \",rmse_hw_ms_at)"
   ]
  },
  {
   "cell_type": "markdown",
   "id": "6e1ad084",
   "metadata": {},
   "source": [
    "#### Holt-Winter's Exponential Smoothing with Additive Seasonality and Multiplicative Trend (Triple Exponential Method)"
   ]
  },
  {
   "cell_type": "code",
   "execution_count": 34,
   "id": "8dd7b65b",
   "metadata": {
    "ExecuteTime": {
     "end_time": "2023-02-11T09:40:47.883608Z",
     "start_time": "2023-02-11T09:40:47.372686Z"
    }
   },
   "outputs": [
    {
     "name": "stdout",
     "output_type": "stream",
     "text": [
      "Mean Absolute Percentage Error :  6.54\n",
      "Root Mean Square Error :  30.78\n"
     ]
    }
   ],
   "source": [
    "model_hw_as_mt = ExponentialSmoothing(x_train[\"passengers\"],seasonal=\"add\",trend=\"mul\",seasonal_periods=12).fit(optimized=True)\n",
    "pred_hw_as_mt = model_hw_as_mt.predict(start = x_test.index[0],end = x_test.index[-1])\n",
    "mape_hw_as_mt = np.round(MAPE(pred_hw_as_mt,x_test.passengers),2)\n",
    "rmse_hw_as_mt =np.round(np.sqrt(mean_squared_error(pred_hw_as_mt,x_test.passengers)),2)\n",
    "print(\"Mean Absolute Percentage Error : \",mape_hw_as_mt)\n",
    "print(\"Root Mean Square Error : \",rmse_hw_as_mt)"
   ]
  },
  {
   "cell_type": "markdown",
   "id": "fd4e6102",
   "metadata": {},
   "source": [
    "#### Holt-Winter's Exponential Smoothing with Multiplicative Seasonality and Multiplicative Trend (Triple Exponential Method)"
   ]
  },
  {
   "cell_type": "code",
   "execution_count": 35,
   "id": "71ea07bd",
   "metadata": {
    "ExecuteTime": {
     "end_time": "2023-02-11T09:40:48.378336Z",
     "start_time": "2023-02-11T09:40:47.888613Z"
    }
   },
   "outputs": [
    {
     "name": "stdout",
     "output_type": "stream",
     "text": [
      "Mean Absolute Percentage Error :  6.26\n",
      "Root Mean Square Error :  23.46\n"
     ]
    }
   ],
   "source": [
    "model_hw_ms_mt = ExponentialSmoothing(x_train[\"passengers\"],seasonal=\"mul\",trend=\"mul\",seasonal_periods=12).fit(optimized=True)\n",
    "pred_hw_ms_mt = model_hw_ms_mt.predict(start = x_test.index[0],end = x_test.index[-1])\n",
    "mape_hw_ms_mt = np.round(MAPE(pred_hw_ms_mt,x_test.passengers),2)\n",
    "rmse_hw_ms_mt = np.round(np.sqrt(mean_squared_error(pred_hw_ms_mt,x_test.passengers)),2)\n",
    "print(\"Mean Absolute Percentage Error : \",mape_hw_ms_mt)\n",
    "print(\"Root Mean Square Error : \",rmse_hw_ms_mt)"
   ]
  },
  {
   "cell_type": "code",
   "execution_count": 36,
   "id": "415ef4d6",
   "metadata": {
    "ExecuteTime": {
     "end_time": "2023-02-11T09:40:48.409907Z",
     "start_time": "2023-02-11T09:40:48.386057Z"
    }
   },
   "outputs": [],
   "source": [
    "# grid search ARIMA parameters for a time series\n",
    "\n",
    "# evaluate an ARIMA model for a given order (p,d,q) and return RMSE\n",
    "def evaluate_arima_model(X, arima_order):\n",
    "# prepare training dataset\n",
    "    X = X.astype('float32')\n",
    "    train_size = int(len(X) * 0.70)\n",
    "    train, test = X[0:train_size], X[train_size:]\n",
    "    history = [x for x in train]\n",
    "# make predictions\n",
    "    predictions = list()\n",
    "    for t in range(len(test)):\n",
    "        model = ARIMA(history, order=arima_order)\n",
    "        model_fit = model.fit()\n",
    "        yhat = model_fit.forecast()[0]\n",
    "        predictions.append(yhat)\n",
    "        history.append(test[t])\n",
    "# calculate out of sample error\n",
    "    rmse = sqrt(mean_squared_error(test, predictions))\n",
    "    return rmse"
   ]
  },
  {
   "cell_type": "code",
   "execution_count": 37,
   "id": "5e0602e3",
   "metadata": {
    "ExecuteTime": {
     "end_time": "2023-02-11T09:40:48.440384Z",
     "start_time": "2023-02-11T09:40:48.417901Z"
    }
   },
   "outputs": [],
   "source": [
    "# evaluate combinations of p, d and q values for an ARIMA model\n",
    "def evaluate_models(dataset, p_values, d_values, q_values):\n",
    "    dataset = dataset.astype('float32')\n",
    "    best_score, best_cfg = float('inf'), None\n",
    "    for p in p_values:\n",
    "        for d in d_values:\n",
    "            for q in q_values:\n",
    "                order = (p,d,q)\n",
    "                try:\n",
    "                    rmse = evaluate_arima_model(train, order)\n",
    "                    if rmse < best_score:\n",
    "                        best_score, best_cfg = rmse, order\n",
    "                    print('ARIMA%s RMSE=%.3f' % (order,rmse))\n",
    "                except:\n",
    "                    continue\n",
    "    print('Best ARIMA%s RMSE=%.3f' % (best_cfg, best_score))  "
   ]
  },
  {
   "cell_type": "code",
   "execution_count": 38,
   "id": "863fbb7a",
   "metadata": {
    "ExecuteTime": {
     "end_time": "2023-02-11T09:40:56.732267Z",
     "start_time": "2023-02-11T09:40:48.447478Z"
    }
   },
   "outputs": [],
   "source": [
    "train = pd.read_excel('Airlines+Data.xlsx', index_col=0, parse_dates=True, squeeze=True)"
   ]
  },
  {
   "cell_type": "code",
   "execution_count": 66,
   "id": "eba8126f",
   "metadata": {
    "ExecuteTime": {
     "end_time": "2023-02-11T11:45:14.946947Z",
     "start_time": "2023-02-11T11:45:14.328386Z"
    }
   },
   "outputs": [
    {
     "data": {
      "text/plain": [
       "array([112, 118, 132, 129, 121, 135, 148, 148, 136, 119, 104, 118, 115,\n",
       "       126, 141, 135, 125, 149, 170, 170, 158, 133, 114, 140, 145, 150,\n",
       "       178, 163, 172, 178, 199, 199, 184, 162, 146, 166, 171, 180, 193,\n",
       "       181, 183, 218, 230, 242, 209, 191, 172, 194, 196, 196, 236, 235,\n",
       "       229, 243, 264, 272, 237, 211, 180, 201, 204, 188, 235, 227, 234,\n",
       "       264, 302, 293, 259, 229, 203, 229, 242, 233, 267, 269, 270, 315,\n",
       "       364, 347, 312, 274, 237, 278, 284, 277, 317, 313, 318, 374, 413,\n",
       "       405, 355, 306, 271, 306], dtype=int64)"
      ]
     },
     "execution_count": 66,
     "metadata": {},
     "output_type": "execute_result"
    }
   ],
   "source": [
    "train.values"
   ]
  },
  {
   "cell_type": "code",
   "execution_count": 40,
   "id": "4a4abcca",
   "metadata": {
    "ExecuteTime": {
     "end_time": "2023-02-11T09:43:31.929271Z",
     "start_time": "2023-02-11T09:40:56.771597Z"
    }
   },
   "outputs": [
    {
     "name": "stdout",
     "output_type": "stream",
     "text": [
      "ARIMA(0, 0, 0) RMSE=111.095\n",
      "ARIMA(0, 0, 1) RMSE=59.116\n",
      "ARIMA(0, 0, 2) RMSE=44.620\n",
      "ARIMA(0, 1, 0) RMSE=31.695\n",
      "ARIMA(0, 1, 1) RMSE=29.499\n",
      "ARIMA(0, 1, 2) RMSE=29.313\n",
      "ARIMA(0, 2, 0) RMSE=36.861\n",
      "ARIMA(0, 2, 1) RMSE=31.972\n",
      "ARIMA(0, 2, 2) RMSE=29.718\n",
      "ARIMA(1, 0, 0) RMSE=31.920\n",
      "ARIMA(1, 0, 1) RMSE=29.364\n",
      "ARIMA(1, 0, 2) RMSE=29.417\n",
      "ARIMA(1, 1, 0) RMSE=30.535\n",
      "ARIMA(1, 1, 1) RMSE=29.010\n",
      "ARIMA(1, 1, 2) RMSE=27.580\n",
      "ARIMA(1, 2, 0) RMSE=37.615\n",
      "ARIMA(1, 2, 1) RMSE=30.794\n",
      "ARIMA(1, 2, 2) RMSE=29.263\n",
      "ARIMA(2, 0, 0) RMSE=30.492\n",
      "ARIMA(2, 0, 1) RMSE=29.298\n",
      "ARIMA(2, 0, 2) RMSE=29.116\n",
      "ARIMA(2, 1, 0) RMSE=29.366\n",
      "ARIMA(2, 1, 1) RMSE=27.423\n",
      "ARIMA(2, 1, 2) RMSE=27.162\n",
      "ARIMA(2, 2, 0) RMSE=36.001\n",
      "ARIMA(2, 2, 1) RMSE=29.673\n",
      "ARIMA(2, 2, 2) RMSE=29.543\n",
      "Best ARIMA(2, 1, 2) RMSE=27.162\n"
     ]
    }
   ],
   "source": [
    "# evaluate parameters\n",
    "train = pd.read_excel('Airlines+Data.xlsx', index_col=0, parse_dates=True, squeeze=True)\n",
    "p_values = range(0, 3)\n",
    "d_values = range(0, 3)\n",
    "q_values = range(0, 3)\n",
    "evaluate_models(train.values, p_values, d_values, q_values)"
   ]
  },
  {
   "cell_type": "code",
   "execution_count": 41,
   "id": "3c8ee3c9",
   "metadata": {
    "ExecuteTime": {
     "end_time": "2023-02-11T09:43:31.960560Z",
     "start_time": "2023-02-11T09:43:31.934160Z"
    }
   },
   "outputs": [
    {
     "data": {
      "text/plain": [
       "Month\n",
       "1995-01-01    112\n",
       "1995-02-01    118\n",
       "1995-03-01    132\n",
       "1995-04-01    129\n",
       "1995-05-01    121\n",
       "             ... \n",
       "2002-08-01    405\n",
       "2002-09-01    355\n",
       "2002-10-01    306\n",
       "2002-11-01    271\n",
       "2002-12-01    306\n",
       "Name: Passengers, Length: 96, dtype: int64"
      ]
     },
     "execution_count": 41,
     "metadata": {},
     "output_type": "execute_result"
    }
   ],
   "source": [
    "train"
   ]
  },
  {
   "cell_type": "code",
   "execution_count": 42,
   "id": "f586d304",
   "metadata": {
    "ExecuteTime": {
     "end_time": "2023-02-11T09:43:31.991679Z",
     "start_time": "2023-02-11T09:43:31.967124Z"
    }
   },
   "outputs": [
    {
     "data": {
      "text/plain": [
       "array([112, 118, 132, 129, 121, 135, 148, 148, 136, 119, 104, 118, 115,\n",
       "       126, 141, 135, 125, 149, 170, 170, 158, 133, 114, 140, 145, 150,\n",
       "       178, 163, 172, 178, 199, 199, 184, 162, 146, 166, 171, 180, 193,\n",
       "       181, 183, 218, 230, 242, 209, 191, 172, 194, 196, 196, 236, 235,\n",
       "       229, 243, 264, 272, 237, 211, 180, 201, 204, 188, 235, 227, 234,\n",
       "       264, 302, 293, 259, 229, 203, 229, 242, 233, 267, 269, 270, 315,\n",
       "       364, 347, 312, 274, 237, 278, 284, 277, 317, 313, 318, 374, 413,\n",
       "       405, 355, 306, 271, 306], dtype=int64)"
      ]
     },
     "execution_count": 42,
     "metadata": {},
     "output_type": "execute_result"
    }
   ],
   "source": [
    "train.values"
   ]
  },
  {
   "cell_type": "code",
   "execution_count": 43,
   "id": "07b5ad2a",
   "metadata": {
    "ExecuteTime": {
     "end_time": "2023-02-11T09:43:32.022618Z",
     "start_time": "2023-02-11T09:43:31.997928Z"
    }
   },
   "outputs": [],
   "source": [
    "# prepare data\n",
    "X = x_train.copy()\n",
    "X = X.iloc[:,:2]\n",
    "X = X.set_index('date')\n",
    "X = X.astype('float32') "
   ]
  },
  {
   "cell_type": "code",
   "execution_count": 67,
   "id": "13273a82",
   "metadata": {
    "ExecuteTime": {
     "end_time": "2023-02-11T14:52:19.510903Z",
     "start_time": "2023-02-11T14:52:15.885888Z"
    }
   },
   "outputs": [
    {
     "data": {
      "text/html": [
       "<div>\n",
       "<style scoped>\n",
       "    .dataframe tbody tr th:only-of-type {\n",
       "        vertical-align: middle;\n",
       "    }\n",
       "\n",
       "    .dataframe tbody tr th {\n",
       "        vertical-align: top;\n",
       "    }\n",
       "\n",
       "    .dataframe thead th {\n",
       "        text-align: right;\n",
       "    }\n",
       "</style>\n",
       "<table border=\"1\" class=\"dataframe\">\n",
       "  <thead>\n",
       "    <tr style=\"text-align: right;\">\n",
       "      <th></th>\n",
       "      <th>passengers</th>\n",
       "    </tr>\n",
       "    <tr>\n",
       "      <th>date</th>\n",
       "      <th></th>\n",
       "    </tr>\n",
       "  </thead>\n",
       "  <tbody>\n",
       "    <tr>\n",
       "      <th>1995-01-01</th>\n",
       "      <td>112.0</td>\n",
       "    </tr>\n",
       "    <tr>\n",
       "      <th>1995-02-01</th>\n",
       "      <td>118.0</td>\n",
       "    </tr>\n",
       "    <tr>\n",
       "      <th>1995-03-01</th>\n",
       "      <td>132.0</td>\n",
       "    </tr>\n",
       "    <tr>\n",
       "      <th>1995-04-01</th>\n",
       "      <td>129.0</td>\n",
       "    </tr>\n",
       "    <tr>\n",
       "      <th>1995-05-01</th>\n",
       "      <td>121.0</td>\n",
       "    </tr>\n",
       "    <tr>\n",
       "      <th>...</th>\n",
       "      <td>...</td>\n",
       "    </tr>\n",
       "    <tr>\n",
       "      <th>2000-12-01</th>\n",
       "      <td>229.0</td>\n",
       "    </tr>\n",
       "    <tr>\n",
       "      <th>2001-01-01</th>\n",
       "      <td>242.0</td>\n",
       "    </tr>\n",
       "    <tr>\n",
       "      <th>2001-02-01</th>\n",
       "      <td>233.0</td>\n",
       "    </tr>\n",
       "    <tr>\n",
       "      <th>2001-03-01</th>\n",
       "      <td>267.0</td>\n",
       "    </tr>\n",
       "    <tr>\n",
       "      <th>2001-04-01</th>\n",
       "      <td>269.0</td>\n",
       "    </tr>\n",
       "  </tbody>\n",
       "</table>\n",
       "<p>76 rows × 1 columns</p>\n",
       "</div>"
      ],
      "text/plain": [
       "            passengers\n",
       "date                  \n",
       "1995-01-01       112.0\n",
       "1995-02-01       118.0\n",
       "1995-03-01       132.0\n",
       "1995-04-01       129.0\n",
       "1995-05-01       121.0\n",
       "...                ...\n",
       "2000-12-01       229.0\n",
       "2001-01-01       242.0\n",
       "2001-02-01       233.0\n",
       "2001-03-01       267.0\n",
       "2001-04-01       269.0\n",
       "\n",
       "[76 rows x 1 columns]"
      ]
     },
     "execution_count": 67,
     "metadata": {},
     "output_type": "execute_result"
    }
   ],
   "source": [
    "X"
   ]
  },
  {
   "cell_type": "code",
   "execution_count": 44,
   "id": "443dd319",
   "metadata": {
    "ExecuteTime": {
     "end_time": "2023-02-11T09:43:32.689470Z",
     "start_time": "2023-02-11T09:43:32.027807Z"
    }
   },
   "outputs": [
    {
     "name": "stdout",
     "output_type": "stream",
     "text": [
      "Mean Absolute Percentage Error :  14.72\n",
      "Root Mean Square Error :  60.03\n"
     ]
    }
   ],
   "source": [
    "# fit model\n",
    "model_arima = ARIMA(X, order=(2,1,2)).fit()\n",
    "pred_arima = model_arima.predict(start = x_test.index[0],end = x_test.index[-1])\n",
    "mape_arima = np.round(MAPE(pred_arima.values,x_test.passengers.values),2)\n",
    "rmse_arima = np.round(np.sqrt(mean_squared_error(pred_arima,x_test.passengers)),2)\n",
    "print(\"Mean Absolute Percentage Error : \",mape_arima)\n",
    "print(\"Root Mean Square Error : \",rmse_arima)"
   ]
  },
  {
   "cell_type": "code",
   "execution_count": 45,
   "id": "d3db6614",
   "metadata": {
    "ExecuteTime": {
     "end_time": "2023-02-11T09:43:37.648299Z",
     "start_time": "2023-02-11T09:43:32.699897Z"
    },
    "scrolled": true
   },
   "outputs": [
    {
     "data": {
      "image/png": "[encoded data removed]",
      "text/plain": [
       "<Figure size 864x576 with 4 Axes>"
      ]
     },
     "execution_count": 45,
     "metadata": {},
     "output_type": "execute_result"
    },
    {
     "data": {
      "image/png": "[encoded data removed]",
      "text/plain": [
       "<Figure size 864x576 with 4 Axes>"
      ]
     },
     "metadata": {},
     "output_type": "display_data"
    }
   ],
   "source": [
    "model_arima.plot_diagnostics(figsize=(12,8)) "
   ]
  },
  {
   "cell_type": "markdown",
   "id": "30050967",
   "metadata": {},
   "source": [
    "### Step-6.1.1 : Comparing the results"
   ]
  },
  {
   "cell_type": "code",
   "execution_count": 46,
   "id": "9bce1492",
   "metadata": {
    "ExecuteTime": {
     "end_time": "2023-02-11T09:43:37.664349Z",
     "start_time": "2023-02-11T09:43:37.652992Z"
    }
   },
   "outputs": [],
   "source": [
    "pd.set_option('max_colwidth',100)"
   ]
  },
  {
   "cell_type": "code",
   "execution_count": 47,
   "id": "59bb5536",
   "metadata": {
    "ExecuteTime": {
     "end_time": "2023-02-11T09:43:37.711071Z",
     "start_time": "2023-02-11T09:43:37.670045Z"
    }
   },
   "outputs": [
    {
     "data": {
      "text/html": [
       "<div>\n",
       "<style scoped>\n",
       "    .dataframe tbody tr th:only-of-type {\n",
       "        vertical-align: middle;\n",
       "    }\n",
       "\n",
       "    .dataframe tbody tr th {\n",
       "        vertical-align: top;\n",
       "    }\n",
       "\n",
       "    .dataframe thead th {\n",
       "        text-align: right;\n",
       "    }\n",
       "</style>\n",
       "<table border=\"1\" class=\"dataframe\">\n",
       "  <thead>\n",
       "    <tr style=\"text-align: right;\">\n",
       "      <th></th>\n",
       "      <th>Model</th>\n",
       "      <th>RMSE_Values</th>\n",
       "    </tr>\n",
       "  </thead>\n",
       "  <tbody>\n",
       "    <tr>\n",
       "      <th>5</th>\n",
       "      <td>H-W's Exp. Smoothing with Mul. Seasonality and Mul. Trend</td>\n",
       "      <td>23.46</td>\n",
       "    </tr>\n",
       "    <tr>\n",
       "      <th>4</th>\n",
       "      <td>H-W's Exp. Smoothing with Add. Seasonality and Mul. Trend</td>\n",
       "      <td>30.78</td>\n",
       "    </tr>\n",
       "    <tr>\n",
       "      <th>3</th>\n",
       "      <td>H-W's Exp. Smoothing with Mul. Seasonality and Add. Trend</td>\n",
       "      <td>33.88</td>\n",
       "    </tr>\n",
       "    <tr>\n",
       "      <th>2</th>\n",
       "      <td>H-W's Exp. Smooothing with Add. Seasonality and Trend</td>\n",
       "      <td>37.73</td>\n",
       "    </tr>\n",
       "    <tr>\n",
       "      <th>1</th>\n",
       "      <td>Holt's Method</td>\n",
       "      <td>47.99</td>\n",
       "    </tr>\n",
       "    <tr>\n",
       "      <th>6</th>\n",
       "      <td>ARIMA</td>\n",
       "      <td>60.03</td>\n",
       "    </tr>\n",
       "    <tr>\n",
       "      <th>0</th>\n",
       "      <td>SES Method</td>\n",
       "      <td>82.12</td>\n",
       "    </tr>\n",
       "  </tbody>\n",
       "</table>\n",
       "</div>"
      ],
      "text/plain": [
       "                                                       Model  RMSE_Values\n",
       "5  H-W's Exp. Smoothing with Mul. Seasonality and Mul. Trend        23.46\n",
       "4  H-W's Exp. Smoothing with Add. Seasonality and Mul. Trend        30.78\n",
       "3  H-W's Exp. Smoothing with Mul. Seasonality and Add. Trend        33.88\n",
       "2      H-W's Exp. Smooothing with Add. Seasonality and Trend        37.73\n",
       "1                                              Holt's Method        47.99\n",
       "6                                                      ARIMA        60.03\n",
       "0                                                 SES Method        82.12"
      ]
     },
     "execution_count": 47,
     "metadata": {},
     "output_type": "execute_result"
    }
   ],
   "source": [
    "model_list                = [\"SES Method\",\"Holt's Method\",\n",
    "                             \"H-W's Exp. Smooothing with Add. Seasonality and Trend\",\n",
    "                             \"H-W's Exp. Smoothing with Mul. Seasonality and Add. Trend\",\n",
    "                             \"H-W's Exp. Smoothing with Add. Seasonality and Mul. Trend\",\n",
    "                             \"H-W's Exp. Smoothing with Mul. Seasonality and Mul. Trend\",\n",
    "                             \"ARIMA\"\n",
    "                            ]\n",
    "rmse_val_list             = [rmse_ses,rmse_h,rmse_hw_as_at,rmse_hw_ms_at,rmse_hw_as_mt,rmse_hw_ms_mt\n",
    "                             ,rmse_arima]\n",
    "\n",
    "table_rmse                = pd.DataFrame(columns=['Model','RMSE_Values'])\n",
    "table_rmse['Model']       = model_list\n",
    "table_rmse['RMSE_Values'] = rmse_val_list\n",
    "table_rmse.sort_values('RMSE_Values')"
   ]
  },
  {
   "cell_type": "code",
   "execution_count": 48,
   "id": "aaddb454",
   "metadata": {
    "ExecuteTime": {
     "end_time": "2023-02-11T09:43:38.689138Z",
     "start_time": "2023-02-11T09:43:37.716642Z"
    }
   },
   "outputs": [
    {
     "data": {
      "image/png": "[encoded data removed]",
      "text/plain": [
       "<Figure size 720x576 with 1 Axes>"
      ]
     },
     "metadata": {},
     "output_type": "display_data"
    }
   ],
   "source": [
    "plt.figure(figsize=(10,8))\n",
    "ax = sb.barplot(x='RMSE_Values',y='Model',data=table_rmse,order=table_rmse.sort_values('RMSE_Values').Model)\n",
    "for i in ax.containers:\n",
    "    ax.bar_label(i)"
   ]
  },
  {
   "cell_type": "markdown",
   "id": "6ec34d48",
   "metadata": {},
   "source": [
    "### Step-6.2 : Model Driven Techniques"
   ]
  },
  {
   "cell_type": "markdown",
   "id": "d318afa3",
   "metadata": {},
   "source": [
    "#### Linear Model"
   ]
  },
  {
   "cell_type": "code",
   "execution_count": 49,
   "id": "bc8127da",
   "metadata": {
    "ExecuteTime": {
     "end_time": "2023-02-11T09:43:38.749359Z",
     "start_time": "2023-02-11T09:43:38.696140Z"
    }
   },
   "outputs": [
    {
     "name": "stdout",
     "output_type": "stream",
     "text": [
      "Root Mean Square Error :  36.02\n"
     ]
    }
   ],
   "source": [
    "model_lin     = smf.ols('passengers~t',data=x_train).fit()\n",
    "predicted_lin = pd.Series(model_lin.predict(pd.DataFrame(x_test['t'])))\n",
    "rmse_lin      = np.sqrt(np.mean(np.array(x_test['passengers'])-np.array(predicted_lin))**2)\n",
    "rmse_lin      = round(rmse_lin,2)\n",
    "print(\"Root Mean Square Error : \",rmse_lin)"
   ]
  },
  {
   "cell_type": "markdown",
   "id": "db75a02e",
   "metadata": {},
   "source": [
    "#### Exponential Model"
   ]
  },
  {
   "cell_type": "code",
   "execution_count": 50,
   "id": "6197208b",
   "metadata": {
    "ExecuteTime": {
     "end_time": "2023-02-11T09:43:38.797478Z",
     "start_time": "2023-02-11T09:43:38.754349Z"
    }
   },
   "outputs": [
    {
     "name": "stdout",
     "output_type": "stream",
     "text": [
      "Root Mean Square Error :  298.66\n"
     ]
    }
   ],
   "source": [
    "model_exp = smf.ols('log_passengers~t',data=x_train).fit()\n",
    "pred_exp  = pd.Series(model_exp.predict(pd.DataFrame(x_test['t'])))\n",
    "rmse_exp  = np.sqrt(np.mean((np.array(x_test['log_passengers'])-np.array(np.exp(pred_exp)))**2))\n",
    "rmse_exp  = round(rmse_exp,2)\n",
    "print(\"Root Mean Square Error : \",rmse_exp)"
   ]
  },
  {
   "cell_type": "markdown",
   "id": "61b36493",
   "metadata": {},
   "source": [
    "#### Quadratic "
   ]
  },
  {
   "cell_type": "code",
   "execution_count": 51,
   "id": "4e70b5f7",
   "metadata": {
    "ExecuteTime": {
     "end_time": "2023-02-11T09:43:38.843956Z",
     "start_time": "2023-02-11T09:43:38.801700Z"
    }
   },
   "outputs": [
    {
     "name": "stdout",
     "output_type": "stream",
     "text": [
      "Root Mean Square Error :  58.49\n"
     ]
    }
   ],
   "source": [
    "model_quad = smf.ols('passengers~t+t_square',data=x_train).fit()\n",
    "pred_quad = pd.Series(model_quad.predict(x_test[[\"t\",\"t_square\"]]))\n",
    "rmse_quad = np.sqrt(np.mean((np.array(x_test['passengers'])-np.array(pred_quad))**2))\n",
    "rmse_quad = round(rmse_quad,2)\n",
    "print(\"Root Mean Square Error : \",rmse_quad)"
   ]
  },
  {
   "cell_type": "markdown",
   "id": "ed123afd",
   "metadata": {},
   "source": [
    "#### Additive seasonality "
   ]
  },
  {
   "cell_type": "code",
   "execution_count": 52,
   "id": "55b40445",
   "metadata": {
    "ExecuteTime": {
     "end_time": "2023-02-11T09:43:38.953073Z",
     "start_time": "2023-02-11T09:43:38.847945Z"
    }
   },
   "outputs": [
    {
     "name": "stdout",
     "output_type": "stream",
     "text": [
      "Root Mean Square Error :  132.25\n"
     ]
    }
   ],
   "source": [
    "model_add_sea = smf.ols('passengers~Jan+Feb+Mar+Apr+May+Jun+Jul+Aug+Sep+Oct+Nov+Dec',data=x_train).fit()\n",
    "pred_add_sea = pd.Series(model_add_sea.predict(x_test[['Jan','Feb','Mar','Apr','May','Jun','Jul',\n",
    "                                               'Aug','Sep','Oct','Nov','Dec']]))\n",
    "rmse_add_sea = np.sqrt(np.mean((np.array(x_test['passengers'])-np.array(pred_add_sea))**2))\n",
    "rmse_add_sea = round(rmse_add_sea,2)\n",
    "print(\"Root Mean Square Error : \",rmse_add_sea)"
   ]
  },
  {
   "cell_type": "markdown",
   "id": "ff95e839",
   "metadata": {},
   "source": [
    "#### Additive Seasonality Quadratic "
   ]
  },
  {
   "cell_type": "code",
   "execution_count": 53,
   "id": "1d426800",
   "metadata": {
    "ExecuteTime": {
     "end_time": "2023-02-11T09:43:39.078104Z",
     "start_time": "2023-02-11T09:43:38.959040Z"
    }
   },
   "outputs": [
    {
     "name": "stdout",
     "output_type": "stream",
     "text": [
      "Root Mean Square Error :  39.76\n"
     ]
    }
   ],
   "source": [
    "model_add_sea_quad = smf.ols('passengers~t+t_square+Jan+Feb+Mar+Apr+May+Jun+Jul+Aug+Sep+Oct+Nov+Dec',data=x_train).fit()\n",
    "pred_add_sea_quad = pd.Series(model_add_sea_quad.predict(x_test[['Jan','Feb','Mar','Apr','May','Jun','Jul',\n",
    "                                               'Aug','Sep','Oct','Nov','Dec','t','t_square']]))\n",
    "rmse_add_sea_quad = np.sqrt(np.mean((np.array(x_test['passengers'])-np.array(pred_add_sea_quad))**2))\n",
    "rmse_add_sea_quad = round(rmse_add_sea_quad,2)\n",
    "print(\"Root Mean Square Error : \",rmse_add_sea_quad)"
   ]
  },
  {
   "cell_type": "markdown",
   "id": "5b02b913",
   "metadata": {
    "ExecuteTime": {
     "end_time": "2022-12-04T16:54:14.936293Z",
     "start_time": "2022-12-04T16:54:14.919819Z"
    }
   },
   "source": [
    "#### Multiplicative Seasonality"
   ]
  },
  {
   "cell_type": "code",
   "execution_count": 54,
   "id": "6730f37f",
   "metadata": {
    "ExecuteTime": {
     "end_time": "2023-02-11T09:43:39.202154Z",
     "start_time": "2023-02-11T09:43:39.081600Z"
    }
   },
   "outputs": [
    {
     "name": "stdout",
     "output_type": "stream",
     "text": [
      "Root Mean Square Error :  137.61\n"
     ]
    }
   ],
   "source": [
    "model_mul_sea = smf.ols('log_passengers~Jan+Feb+Mar+Apr+May+Jun+Jul+Aug+Sep+Oct+Nov+Dec',\n",
    "                  data = x_train).fit()\n",
    "pred_mul_sea = pd.Series(model_mul_sea.predict(x_test))\n",
    "rmse_mul_sea = np.sqrt(np.mean((np.array(x_test['passengers'])-np.array(np.exp(pred_mul_sea)))**2))\n",
    "rmse_mul_sea = round(rmse_mul_sea,2)\n",
    "print(\"Root Mean Square Error : \",rmse_mul_sea)"
   ]
  },
  {
   "cell_type": "markdown",
   "id": "8a1c1504",
   "metadata": {},
   "source": [
    "#### Multiplicative Additive Seasonality "
   ]
  },
  {
   "cell_type": "code",
   "execution_count": 55,
   "id": "622d929a",
   "metadata": {
    "ExecuteTime": {
     "end_time": "2023-02-11T09:43:39.327333Z",
     "start_time": "2023-02-11T09:43:39.206332Z"
    }
   },
   "outputs": [
    {
     "name": "stdout",
     "output_type": "stream",
     "text": [
      "Root Mean Square Error :  11.78\n"
     ]
    }
   ],
   "source": [
    "model_mul_add_sea = smf.ols('log_passengers~t+Jan+Feb+Mar+Apr+May+Jun+Jul+Aug+Sep+Oct+Nov+Dec',data = x_train).fit()\n",
    "pred_mul_add_sea = pd.Series(model_mul_add_sea.predict(x_test))\n",
    "rmse_mul_add_sea = np.sqrt(np.mean((np.array(x_test['passengers'])-np.array(np.exp(pred_mul_add_sea)))**2))\n",
    "rmse_mul_add_sea = round(rmse_mul_add_sea,2)\n",
    "print(\"Root Mean Square Error : \",rmse_mul_add_sea)"
   ]
  },
  {
   "cell_type": "markdown",
   "id": "5a24452c",
   "metadata": {},
   "source": [
    "### Step-6.2.1 : Comparing the results"
   ]
  },
  {
   "cell_type": "code",
   "execution_count": 56,
   "id": "9d958626",
   "metadata": {
    "ExecuteTime": {
     "end_time": "2023-02-11T09:43:39.374391Z",
     "start_time": "2023-02-11T09:43:39.330977Z"
    }
   },
   "outputs": [
    {
     "data": {
      "text/html": [
       "<div>\n",
       "<style scoped>\n",
       "    .dataframe tbody tr th:only-of-type {\n",
       "        vertical-align: middle;\n",
       "    }\n",
       "\n",
       "    .dataframe tbody tr th {\n",
       "        vertical-align: top;\n",
       "    }\n",
       "\n",
       "    .dataframe thead th {\n",
       "        text-align: right;\n",
       "    }\n",
       "</style>\n",
       "<table border=\"1\" class=\"dataframe\">\n",
       "  <thead>\n",
       "    <tr style=\"text-align: right;\">\n",
       "      <th></th>\n",
       "      <th>Model</th>\n",
       "      <th>RMSE_Values</th>\n",
       "    </tr>\n",
       "  </thead>\n",
       "  <tbody>\n",
       "    <tr>\n",
       "      <th>6</th>\n",
       "      <td>Multiplicative Additive Seasonality</td>\n",
       "      <td>11.78</td>\n",
       "    </tr>\n",
       "    <tr>\n",
       "      <th>0</th>\n",
       "      <td>Linear</td>\n",
       "      <td>36.02</td>\n",
       "    </tr>\n",
       "    <tr>\n",
       "      <th>4</th>\n",
       "      <td>Additive Seasonality Quadratic</td>\n",
       "      <td>39.76</td>\n",
       "    </tr>\n",
       "    <tr>\n",
       "      <th>2</th>\n",
       "      <td>Quadratic</td>\n",
       "      <td>58.49</td>\n",
       "    </tr>\n",
       "    <tr>\n",
       "      <th>3</th>\n",
       "      <td>Additive Seasonality</td>\n",
       "      <td>132.25</td>\n",
       "    </tr>\n",
       "    <tr>\n",
       "      <th>5</th>\n",
       "      <td>Multiplicative Seasonality</td>\n",
       "      <td>137.61</td>\n",
       "    </tr>\n",
       "    <tr>\n",
       "      <th>1</th>\n",
       "      <td>Exponential</td>\n",
       "      <td>298.66</td>\n",
       "    </tr>\n",
       "  </tbody>\n",
       "</table>\n",
       "</div>"
      ],
      "text/plain": [
       "                                 Model  RMSE_Values\n",
       "6  Multiplicative Additive Seasonality        11.78\n",
       "0                               Linear        36.02\n",
       "4       Additive Seasonality Quadratic        39.76\n",
       "2                            Quadratic        58.49\n",
       "3                 Additive Seasonality       132.25\n",
       "5           Multiplicative Seasonality       137.61\n",
       "1                          Exponential       298.66"
      ]
     },
     "execution_count": 56,
     "metadata": {},
     "output_type": "execute_result"
    }
   ],
   "source": [
    "model_list                = [\"Linear\",\"Exponential\",\"Quadratic\",\"Additive Seasonality\",\"Additive Seasonality Quadratic\",\"Multiplicative Seasonality\",\n",
    "                                 \"Multiplicative Additive Seasonality\"]\n",
    "rmse_val_list             = [rmse_lin,rmse_exp,rmse_quad,rmse_add_sea,rmse_add_sea_quad,rmse_mul_sea,\n",
    "                                 rmse_mul_add_sea]\n",
    "\n",
    "table_rmse                = pd.DataFrame(columns=['Model','RMSE_Values'])\n",
    "table_rmse['Model']       = model_list\n",
    "table_rmse['RMSE_Values'] = rmse_val_list\n",
    "\n",
    "table_rmse.sort_values(by=['RMSE_Values'])"
   ]
  },
  {
   "cell_type": "code",
   "execution_count": 57,
   "id": "2174a1c9",
   "metadata": {
    "ExecuteTime": {
     "end_time": "2023-02-11T09:43:40.044234Z",
     "start_time": "2023-02-11T09:43:39.380956Z"
    }
   },
   "outputs": [
    {
     "data": {
      "image/png": "[encoded data removed]",
      "text/plain": [
       "<Figure size 864x576 with 1 Axes>"
      ]
     },
     "metadata": {},
     "output_type": "display_data"
    }
   ],
   "source": [
    "plt.figure(figsize=(12,8))\n",
    "ax = sb.barplot(x='RMSE_Values',y='Model',data=table_rmse,order=table_rmse.sort_values('RMSE_Values').Model)\n",
    "for i in ax.containers:\n",
    "    ax.bar_label(i)"
   ]
  },
  {
   "cell_type": "markdown",
   "id": "e00e44ca",
   "metadata": {},
   "source": [
    "### Step-7 : Predict for new time period"
   ]
  },
  {
   "cell_type": "markdown",
   "id": "c0ed3b1f",
   "metadata": {
    "ExecuteTime": {
     "end_time": "2022-12-04T17:07:55.207902Z",
     "start_time": "2022-12-04T17:07:55.188988Z"
    }
   },
   "source": [
    "#### Out of all the models, Multiplicative Additive Seasonality gave the lowest error. Hence use this model for forecasting."
   ]
  },
  {
   "cell_type": "code",
   "execution_count": 58,
   "id": "0110f8bb",
   "metadata": {
    "ExecuteTime": {
     "end_time": "2023-02-11T09:43:40.138346Z",
     "start_time": "2023-02-11T09:43:40.050980Z"
    }
   },
   "outputs": [
    {
     "data": {
      "text/html": [
       "<div>\n",
       "<style scoped>\n",
       "    .dataframe tbody tr th:only-of-type {\n",
       "        vertical-align: middle;\n",
       "    }\n",
       "\n",
       "    .dataframe tbody tr th {\n",
       "        vertical-align: top;\n",
       "    }\n",
       "\n",
       "    .dataframe thead th {\n",
       "        text-align: right;\n",
       "    }\n",
       "</style>\n",
       "<table border=\"1\" class=\"dataframe\">\n",
       "  <thead>\n",
       "    <tr style=\"text-align: right;\">\n",
       "      <th></th>\n",
       "      <th>date</th>\n",
       "      <th>passengers</th>\n",
       "      <th>t</th>\n",
       "      <th>t_square</th>\n",
       "      <th>log_passengers</th>\n",
       "      <th>months</th>\n",
       "      <th>year</th>\n",
       "      <th>Jan</th>\n",
       "      <th>Feb</th>\n",
       "      <th>Mar</th>\n",
       "      <th>Apr</th>\n",
       "      <th>May</th>\n",
       "      <th>Jun</th>\n",
       "      <th>Jul</th>\n",
       "      <th>Aug</th>\n",
       "      <th>Sep</th>\n",
       "      <th>Oct</th>\n",
       "      <th>Nov</th>\n",
       "      <th>Dec</th>\n",
       "    </tr>\n",
       "  </thead>\n",
       "  <tbody>\n",
       "    <tr>\n",
       "      <th>84</th>\n",
       "      <td>2002-01-01</td>\n",
       "      <td>284</td>\n",
       "      <td>85</td>\n",
       "      <td>7225</td>\n",
       "      <td>5.648974</td>\n",
       "      <td>Jan</td>\n",
       "      <td>2002</td>\n",
       "      <td>1</td>\n",
       "      <td>0</td>\n",
       "      <td>0</td>\n",
       "      <td>0</td>\n",
       "      <td>0</td>\n",
       "      <td>0</td>\n",
       "      <td>0</td>\n",
       "      <td>0</td>\n",
       "      <td>0</td>\n",
       "      <td>0</td>\n",
       "      <td>0</td>\n",
       "      <td>0</td>\n",
       "    </tr>\n",
       "    <tr>\n",
       "      <th>85</th>\n",
       "      <td>2002-02-01</td>\n",
       "      <td>277</td>\n",
       "      <td>86</td>\n",
       "      <td>7396</td>\n",
       "      <td>5.624018</td>\n",
       "      <td>Feb</td>\n",
       "      <td>2002</td>\n",
       "      <td>0</td>\n",
       "      <td>1</td>\n",
       "      <td>0</td>\n",
       "      <td>0</td>\n",
       "      <td>0</td>\n",
       "      <td>0</td>\n",
       "      <td>0</td>\n",
       "      <td>0</td>\n",
       "      <td>0</td>\n",
       "      <td>0</td>\n",
       "      <td>0</td>\n",
       "      <td>0</td>\n",
       "    </tr>\n",
       "    <tr>\n",
       "      <th>86</th>\n",
       "      <td>2002-03-01</td>\n",
       "      <td>317</td>\n",
       "      <td>87</td>\n",
       "      <td>7569</td>\n",
       "      <td>5.758902</td>\n",
       "      <td>Mar</td>\n",
       "      <td>2002</td>\n",
       "      <td>0</td>\n",
       "      <td>0</td>\n",
       "      <td>1</td>\n",
       "      <td>0</td>\n",
       "      <td>0</td>\n",
       "      <td>0</td>\n",
       "      <td>0</td>\n",
       "      <td>0</td>\n",
       "      <td>0</td>\n",
       "      <td>0</td>\n",
       "      <td>0</td>\n",
       "      <td>0</td>\n",
       "    </tr>\n",
       "    <tr>\n",
       "      <th>87</th>\n",
       "      <td>2002-04-01</td>\n",
       "      <td>313</td>\n",
       "      <td>88</td>\n",
       "      <td>7744</td>\n",
       "      <td>5.746203</td>\n",
       "      <td>Apr</td>\n",
       "      <td>2002</td>\n",
       "      <td>0</td>\n",
       "      <td>0</td>\n",
       "      <td>0</td>\n",
       "      <td>1</td>\n",
       "      <td>0</td>\n",
       "      <td>0</td>\n",
       "      <td>0</td>\n",
       "      <td>0</td>\n",
       "      <td>0</td>\n",
       "      <td>0</td>\n",
       "      <td>0</td>\n",
       "      <td>0</td>\n",
       "    </tr>\n",
       "    <tr>\n",
       "      <th>88</th>\n",
       "      <td>2002-05-01</td>\n",
       "      <td>318</td>\n",
       "      <td>89</td>\n",
       "      <td>7921</td>\n",
       "      <td>5.762051</td>\n",
       "      <td>May</td>\n",
       "      <td>2002</td>\n",
       "      <td>0</td>\n",
       "      <td>0</td>\n",
       "      <td>0</td>\n",
       "      <td>0</td>\n",
       "      <td>1</td>\n",
       "      <td>0</td>\n",
       "      <td>0</td>\n",
       "      <td>0</td>\n",
       "      <td>0</td>\n",
       "      <td>0</td>\n",
       "      <td>0</td>\n",
       "      <td>0</td>\n",
       "    </tr>\n",
       "    <tr>\n",
       "      <th>89</th>\n",
       "      <td>2002-06-01</td>\n",
       "      <td>374</td>\n",
       "      <td>90</td>\n",
       "      <td>8100</td>\n",
       "      <td>5.924256</td>\n",
       "      <td>Jun</td>\n",
       "      <td>2002</td>\n",
       "      <td>0</td>\n",
       "      <td>0</td>\n",
       "      <td>0</td>\n",
       "      <td>0</td>\n",
       "      <td>0</td>\n",
       "      <td>1</td>\n",
       "      <td>0</td>\n",
       "      <td>0</td>\n",
       "      <td>0</td>\n",
       "      <td>0</td>\n",
       "      <td>0</td>\n",
       "      <td>0</td>\n",
       "    </tr>\n",
       "    <tr>\n",
       "      <th>90</th>\n",
       "      <td>2002-07-01</td>\n",
       "      <td>413</td>\n",
       "      <td>91</td>\n",
       "      <td>8281</td>\n",
       "      <td>6.023448</td>\n",
       "      <td>Jul</td>\n",
       "      <td>2002</td>\n",
       "      <td>0</td>\n",
       "      <td>0</td>\n",
       "      <td>0</td>\n",
       "      <td>0</td>\n",
       "      <td>0</td>\n",
       "      <td>0</td>\n",
       "      <td>1</td>\n",
       "      <td>0</td>\n",
       "      <td>0</td>\n",
       "      <td>0</td>\n",
       "      <td>0</td>\n",
       "      <td>0</td>\n",
       "    </tr>\n",
       "    <tr>\n",
       "      <th>91</th>\n",
       "      <td>2002-08-01</td>\n",
       "      <td>405</td>\n",
       "      <td>92</td>\n",
       "      <td>8464</td>\n",
       "      <td>6.003887</td>\n",
       "      <td>Aug</td>\n",
       "      <td>2002</td>\n",
       "      <td>0</td>\n",
       "      <td>0</td>\n",
       "      <td>0</td>\n",
       "      <td>0</td>\n",
       "      <td>0</td>\n",
       "      <td>0</td>\n",
       "      <td>0</td>\n",
       "      <td>1</td>\n",
       "      <td>0</td>\n",
       "      <td>0</td>\n",
       "      <td>0</td>\n",
       "      <td>0</td>\n",
       "    </tr>\n",
       "    <tr>\n",
       "      <th>92</th>\n",
       "      <td>2002-09-01</td>\n",
       "      <td>355</td>\n",
       "      <td>93</td>\n",
       "      <td>8649</td>\n",
       "      <td>5.872118</td>\n",
       "      <td>Sep</td>\n",
       "      <td>2002</td>\n",
       "      <td>0</td>\n",
       "      <td>0</td>\n",
       "      <td>0</td>\n",
       "      <td>0</td>\n",
       "      <td>0</td>\n",
       "      <td>0</td>\n",
       "      <td>0</td>\n",
       "      <td>0</td>\n",
       "      <td>1</td>\n",
       "      <td>0</td>\n",
       "      <td>0</td>\n",
       "      <td>0</td>\n",
       "    </tr>\n",
       "    <tr>\n",
       "      <th>93</th>\n",
       "      <td>2002-10-01</td>\n",
       "      <td>306</td>\n",
       "      <td>94</td>\n",
       "      <td>8836</td>\n",
       "      <td>5.723585</td>\n",
       "      <td>Oct</td>\n",
       "      <td>2002</td>\n",
       "      <td>0</td>\n",
       "      <td>0</td>\n",
       "      <td>0</td>\n",
       "      <td>0</td>\n",
       "      <td>0</td>\n",
       "      <td>0</td>\n",
       "      <td>0</td>\n",
       "      <td>0</td>\n",
       "      <td>0</td>\n",
       "      <td>1</td>\n",
       "      <td>0</td>\n",
       "      <td>0</td>\n",
       "    </tr>\n",
       "    <tr>\n",
       "      <th>94</th>\n",
       "      <td>2002-11-01</td>\n",
       "      <td>271</td>\n",
       "      <td>95</td>\n",
       "      <td>9025</td>\n",
       "      <td>5.602119</td>\n",
       "      <td>Nov</td>\n",
       "      <td>2002</td>\n",
       "      <td>0</td>\n",
       "      <td>0</td>\n",
       "      <td>0</td>\n",
       "      <td>0</td>\n",
       "      <td>0</td>\n",
       "      <td>0</td>\n",
       "      <td>0</td>\n",
       "      <td>0</td>\n",
       "      <td>0</td>\n",
       "      <td>0</td>\n",
       "      <td>1</td>\n",
       "      <td>0</td>\n",
       "    </tr>\n",
       "    <tr>\n",
       "      <th>95</th>\n",
       "      <td>2002-12-01</td>\n",
       "      <td>306</td>\n",
       "      <td>96</td>\n",
       "      <td>9216</td>\n",
       "      <td>5.723585</td>\n",
       "      <td>Dec</td>\n",
       "      <td>2002</td>\n",
       "      <td>0</td>\n",
       "      <td>0</td>\n",
       "      <td>0</td>\n",
       "      <td>0</td>\n",
       "      <td>0</td>\n",
       "      <td>0</td>\n",
       "      <td>0</td>\n",
       "      <td>0</td>\n",
       "      <td>0</td>\n",
       "      <td>0</td>\n",
       "      <td>0</td>\n",
       "      <td>1</td>\n",
       "    </tr>\n",
       "  </tbody>\n",
       "</table>\n",
       "</div>"
      ],
      "text/plain": [
       "         date  passengers   t  t_square  log_passengers months  year  Jan  \\\n",
       "84 2002-01-01         284  85      7225        5.648974    Jan  2002    1   \n",
       "85 2002-02-01         277  86      7396        5.624018    Feb  2002    0   \n",
       "86 2002-03-01         317  87      7569        5.758902    Mar  2002    0   \n",
       "87 2002-04-01         313  88      7744        5.746203    Apr  2002    0   \n",
       "88 2002-05-01         318  89      7921        5.762051    May  2002    0   \n",
       "89 2002-06-01         374  90      8100        5.924256    Jun  2002    0   \n",
       "90 2002-07-01         413  91      8281        6.023448    Jul  2002    0   \n",
       "91 2002-08-01         405  92      8464        6.003887    Aug  2002    0   \n",
       "92 2002-09-01         355  93      8649        5.872118    Sep  2002    0   \n",
       "93 2002-10-01         306  94      8836        5.723585    Oct  2002    0   \n",
       "94 2002-11-01         271  95      9025        5.602119    Nov  2002    0   \n",
       "95 2002-12-01         306  96      9216        5.723585    Dec  2002    0   \n",
       "\n",
       "    Feb  Mar  Apr  May  Jun  Jul  Aug  Sep  Oct  Nov  Dec  \n",
       "84    0    0    0    0    0    0    0    0    0    0    0  \n",
       "85    1    0    0    0    0    0    0    0    0    0    0  \n",
       "86    0    1    0    0    0    0    0    0    0    0    0  \n",
       "87    0    0    1    0    0    0    0    0    0    0    0  \n",
       "88    0    0    0    1    0    0    0    0    0    0    0  \n",
       "89    0    0    0    0    1    0    0    0    0    0    0  \n",
       "90    0    0    0    0    0    1    0    0    0    0    0  \n",
       "91    0    0    0    0    0    0    1    0    0    0    0  \n",
       "92    0    0    0    0    0    0    0    1    0    0    0  \n",
       "93    0    0    0    0    0    0    0    0    1    0    0  \n",
       "94    0    0    0    0    0    0    0    0    0    1    0  \n",
       "95    0    0    0    0    0    0    0    0    0    0    1  "
      ]
     },
     "execution_count": 58,
     "metadata": {},
     "output_type": "execute_result"
    }
   ],
   "source": [
    "new_data = ap_data_mdf.tail(12)\n",
    "new_data"
   ]
  },
  {
   "cell_type": "code",
   "execution_count": 59,
   "id": "9374e7df",
   "metadata": {
    "ExecuteTime": {
     "end_time": "2023-02-11T09:43:40.232033Z",
     "start_time": "2023-02-11T09:43:40.143857Z"
    }
   },
   "outputs": [],
   "source": [
    "new_data.drop(columns=['passengers','log_passengers','year','months'], axis=1, inplace=True)"
   ]
  },
  {
   "cell_type": "code",
   "execution_count": 60,
   "id": "c4fc30f4",
   "metadata": {
    "ExecuteTime": {
     "end_time": "2023-02-11T09:43:40.295554Z",
     "start_time": "2023-02-11T09:43:40.236926Z"
    }
   },
   "outputs": [
    {
     "data": {
      "text/html": [
       "<div>\n",
       "<style scoped>\n",
       "    .dataframe tbody tr th:only-of-type {\n",
       "        vertical-align: middle;\n",
       "    }\n",
       "\n",
       "    .dataframe tbody tr th {\n",
       "        vertical-align: top;\n",
       "    }\n",
       "\n",
       "    .dataframe thead th {\n",
       "        text-align: right;\n",
       "    }\n",
       "</style>\n",
       "<table border=\"1\" class=\"dataframe\">\n",
       "  <thead>\n",
       "    <tr style=\"text-align: right;\">\n",
       "      <th></th>\n",
       "      <th>date</th>\n",
       "      <th>t</th>\n",
       "      <th>t_square</th>\n",
       "      <th>Jan</th>\n",
       "      <th>Feb</th>\n",
       "      <th>Mar</th>\n",
       "      <th>Apr</th>\n",
       "      <th>May</th>\n",
       "      <th>Jun</th>\n",
       "      <th>Jul</th>\n",
       "      <th>Aug</th>\n",
       "      <th>Sep</th>\n",
       "      <th>Oct</th>\n",
       "      <th>Nov</th>\n",
       "      <th>Dec</th>\n",
       "    </tr>\n",
       "  </thead>\n",
       "  <tbody>\n",
       "    <tr>\n",
       "      <th>84</th>\n",
       "      <td>2002-01-01</td>\n",
       "      <td>85</td>\n",
       "      <td>7225</td>\n",
       "      <td>1</td>\n",
       "      <td>0</td>\n",
       "      <td>0</td>\n",
       "      <td>0</td>\n",
       "      <td>0</td>\n",
       "      <td>0</td>\n",
       "      <td>0</td>\n",
       "      <td>0</td>\n",
       "      <td>0</td>\n",
       "      <td>0</td>\n",
       "      <td>0</td>\n",
       "      <td>0</td>\n",
       "    </tr>\n",
       "    <tr>\n",
       "      <th>85</th>\n",
       "      <td>2002-02-01</td>\n",
       "      <td>86</td>\n",
       "      <td>7396</td>\n",
       "      <td>0</td>\n",
       "      <td>1</td>\n",
       "      <td>0</td>\n",
       "      <td>0</td>\n",
       "      <td>0</td>\n",
       "      <td>0</td>\n",
       "      <td>0</td>\n",
       "      <td>0</td>\n",
       "      <td>0</td>\n",
       "      <td>0</td>\n",
       "      <td>0</td>\n",
       "      <td>0</td>\n",
       "    </tr>\n",
       "    <tr>\n",
       "      <th>86</th>\n",
       "      <td>2002-03-01</td>\n",
       "      <td>87</td>\n",
       "      <td>7569</td>\n",
       "      <td>0</td>\n",
       "      <td>0</td>\n",
       "      <td>1</td>\n",
       "      <td>0</td>\n",
       "      <td>0</td>\n",
       "      <td>0</td>\n",
       "      <td>0</td>\n",
       "      <td>0</td>\n",
       "      <td>0</td>\n",
       "      <td>0</td>\n",
       "      <td>0</td>\n",
       "      <td>0</td>\n",
       "    </tr>\n",
       "    <tr>\n",
       "      <th>87</th>\n",
       "      <td>2002-04-01</td>\n",
       "      <td>88</td>\n",
       "      <td>7744</td>\n",
       "      <td>0</td>\n",
       "      <td>0</td>\n",
       "      <td>0</td>\n",
       "      <td>1</td>\n",
       "      <td>0</td>\n",
       "      <td>0</td>\n",
       "      <td>0</td>\n",
       "      <td>0</td>\n",
       "      <td>0</td>\n",
       "      <td>0</td>\n",
       "      <td>0</td>\n",
       "      <td>0</td>\n",
       "    </tr>\n",
       "    <tr>\n",
       "      <th>88</th>\n",
       "      <td>2002-05-01</td>\n",
       "      <td>89</td>\n",
       "      <td>7921</td>\n",
       "      <td>0</td>\n",
       "      <td>0</td>\n",
       "      <td>0</td>\n",
       "      <td>0</td>\n",
       "      <td>1</td>\n",
       "      <td>0</td>\n",
       "      <td>0</td>\n",
       "      <td>0</td>\n",
       "      <td>0</td>\n",
       "      <td>0</td>\n",
       "      <td>0</td>\n",
       "      <td>0</td>\n",
       "    </tr>\n",
       "    <tr>\n",
       "      <th>89</th>\n",
       "      <td>2002-06-01</td>\n",
       "      <td>90</td>\n",
       "      <td>8100</td>\n",
       "      <td>0</td>\n",
       "      <td>0</td>\n",
       "      <td>0</td>\n",
       "      <td>0</td>\n",
       "      <td>0</td>\n",
       "      <td>1</td>\n",
       "      <td>0</td>\n",
       "      <td>0</td>\n",
       "      <td>0</td>\n",
       "      <td>0</td>\n",
       "      <td>0</td>\n",
       "      <td>0</td>\n",
       "    </tr>\n",
       "    <tr>\n",
       "      <th>90</th>\n",
       "      <td>2002-07-01</td>\n",
       "      <td>91</td>\n",
       "      <td>8281</td>\n",
       "      <td>0</td>\n",
       "      <td>0</td>\n",
       "      <td>0</td>\n",
       "      <td>0</td>\n",
       "      <td>0</td>\n",
       "      <td>0</td>\n",
       "      <td>1</td>\n",
       "      <td>0</td>\n",
       "      <td>0</td>\n",
       "      <td>0</td>\n",
       "      <td>0</td>\n",
       "      <td>0</td>\n",
       "    </tr>\n",
       "    <tr>\n",
       "      <th>91</th>\n",
       "      <td>2002-08-01</td>\n",
       "      <td>92</td>\n",
       "      <td>8464</td>\n",
       "      <td>0</td>\n",
       "      <td>0</td>\n",
       "      <td>0</td>\n",
       "      <td>0</td>\n",
       "      <td>0</td>\n",
       "      <td>0</td>\n",
       "      <td>0</td>\n",
       "      <td>1</td>\n",
       "      <td>0</td>\n",
       "      <td>0</td>\n",
       "      <td>0</td>\n",
       "      <td>0</td>\n",
       "    </tr>\n",
       "    <tr>\n",
       "      <th>92</th>\n",
       "      <td>2002-09-01</td>\n",
       "      <td>93</td>\n",
       "      <td>8649</td>\n",
       "      <td>0</td>\n",
       "      <td>0</td>\n",
       "      <td>0</td>\n",
       "      <td>0</td>\n",
       "      <td>0</td>\n",
       "      <td>0</td>\n",
       "      <td>0</td>\n",
       "      <td>0</td>\n",
       "      <td>1</td>\n",
       "      <td>0</td>\n",
       "      <td>0</td>\n",
       "      <td>0</td>\n",
       "    </tr>\n",
       "    <tr>\n",
       "      <th>93</th>\n",
       "      <td>2002-10-01</td>\n",
       "      <td>94</td>\n",
       "      <td>8836</td>\n",
       "      <td>0</td>\n",
       "      <td>0</td>\n",
       "      <td>0</td>\n",
       "      <td>0</td>\n",
       "      <td>0</td>\n",
       "      <td>0</td>\n",
       "      <td>0</td>\n",
       "      <td>0</td>\n",
       "      <td>0</td>\n",
       "      <td>1</td>\n",
       "      <td>0</td>\n",
       "      <td>0</td>\n",
       "    </tr>\n",
       "    <tr>\n",
       "      <th>94</th>\n",
       "      <td>2002-11-01</td>\n",
       "      <td>95</td>\n",
       "      <td>9025</td>\n",
       "      <td>0</td>\n",
       "      <td>0</td>\n",
       "      <td>0</td>\n",
       "      <td>0</td>\n",
       "      <td>0</td>\n",
       "      <td>0</td>\n",
       "      <td>0</td>\n",
       "      <td>0</td>\n",
       "      <td>0</td>\n",
       "      <td>0</td>\n",
       "      <td>1</td>\n",
       "      <td>0</td>\n",
       "    </tr>\n",
       "    <tr>\n",
       "      <th>95</th>\n",
       "      <td>2002-12-01</td>\n",
       "      <td>96</td>\n",
       "      <td>9216</td>\n",
       "      <td>0</td>\n",
       "      <td>0</td>\n",
       "      <td>0</td>\n",
       "      <td>0</td>\n",
       "      <td>0</td>\n",
       "      <td>0</td>\n",
       "      <td>0</td>\n",
       "      <td>0</td>\n",
       "      <td>0</td>\n",
       "      <td>0</td>\n",
       "      <td>0</td>\n",
       "      <td>1</td>\n",
       "    </tr>\n",
       "  </tbody>\n",
       "</table>\n",
       "</div>"
      ],
      "text/plain": [
       "         date   t  t_square  Jan  Feb  Mar  Apr  May  Jun  Jul  Aug  Sep  Oct  \\\n",
       "84 2002-01-01  85      7225    1    0    0    0    0    0    0    0    0    0   \n",
       "85 2002-02-01  86      7396    0    1    0    0    0    0    0    0    0    0   \n",
       "86 2002-03-01  87      7569    0    0    1    0    0    0    0    0    0    0   \n",
       "87 2002-04-01  88      7744    0    0    0    1    0    0    0    0    0    0   \n",
       "88 2002-05-01  89      7921    0    0    0    0    1    0    0    0    0    0   \n",
       "89 2002-06-01  90      8100    0    0    0    0    0    1    0    0    0    0   \n",
       "90 2002-07-01  91      8281    0    0    0    0    0    0    1    0    0    0   \n",
       "91 2002-08-01  92      8464    0    0    0    0    0    0    0    1    0    0   \n",
       "92 2002-09-01  93      8649    0    0    0    0    0    0    0    0    1    0   \n",
       "93 2002-10-01  94      8836    0    0    0    0    0    0    0    0    0    1   \n",
       "94 2002-11-01  95      9025    0    0    0    0    0    0    0    0    0    0   \n",
       "95 2002-12-01  96      9216    0    0    0    0    0    0    0    0    0    0   \n",
       "\n",
       "    Nov  Dec  \n",
       "84    0    0  \n",
       "85    0    0  \n",
       "86    0    0  \n",
       "87    0    0  \n",
       "88    0    0  \n",
       "89    0    0  \n",
       "90    0    0  \n",
       "91    0    0  \n",
       "92    0    0  \n",
       "93    0    0  \n",
       "94    1    0  \n",
       "95    0    1  "
      ]
     },
     "execution_count": 60,
     "metadata": {},
     "output_type": "execute_result"
    }
   ],
   "source": [
    "new_data"
   ]
  },
  {
   "cell_type": "code",
   "execution_count": 61,
   "id": "36862b3d",
   "metadata": {
    "ExecuteTime": {
     "end_time": "2023-02-11T09:43:40.589809Z",
     "start_time": "2023-02-11T09:43:40.300229Z"
    }
   },
   "outputs": [
    {
     "name": "stdout",
     "output_type": "stream",
     "text": [
      "(84, 19)\n"
     ]
    },
    {
     "data": {
      "text/html": [
       "<div>\n",
       "<style scoped>\n",
       "    .dataframe tbody tr th:only-of-type {\n",
       "        vertical-align: middle;\n",
       "    }\n",
       "\n",
       "    .dataframe tbody tr th {\n",
       "        vertical-align: top;\n",
       "    }\n",
       "\n",
       "    .dataframe thead th {\n",
       "        text-align: right;\n",
       "    }\n",
       "</style>\n",
       "<table border=\"1\" class=\"dataframe\">\n",
       "  <thead>\n",
       "    <tr style=\"text-align: right;\">\n",
       "      <th></th>\n",
       "      <th>date</th>\n",
       "      <th>passengers</th>\n",
       "      <th>t</th>\n",
       "      <th>t_square</th>\n",
       "      <th>log_passengers</th>\n",
       "      <th>months</th>\n",
       "      <th>year</th>\n",
       "      <th>Jan</th>\n",
       "      <th>Feb</th>\n",
       "      <th>Mar</th>\n",
       "      <th>Apr</th>\n",
       "      <th>May</th>\n",
       "      <th>Jun</th>\n",
       "      <th>Jul</th>\n",
       "      <th>Aug</th>\n",
       "      <th>Sep</th>\n",
       "      <th>Oct</th>\n",
       "      <th>Nov</th>\n",
       "      <th>Dec</th>\n",
       "    </tr>\n",
       "  </thead>\n",
       "  <tbody>\n",
       "    <tr>\n",
       "      <th>0</th>\n",
       "      <td>1995-01-01</td>\n",
       "      <td>112</td>\n",
       "      <td>1</td>\n",
       "      <td>1</td>\n",
       "      <td>4.718499</td>\n",
       "      <td>Jan</td>\n",
       "      <td>1995</td>\n",
       "      <td>1</td>\n",
       "      <td>0</td>\n",
       "      <td>0</td>\n",
       "      <td>0</td>\n",
       "      <td>0</td>\n",
       "      <td>0</td>\n",
       "      <td>0</td>\n",
       "      <td>0</td>\n",
       "      <td>0</td>\n",
       "      <td>0</td>\n",
       "      <td>0</td>\n",
       "      <td>0</td>\n",
       "    </tr>\n",
       "    <tr>\n",
       "      <th>1</th>\n",
       "      <td>1995-02-01</td>\n",
       "      <td>118</td>\n",
       "      <td>2</td>\n",
       "      <td>4</td>\n",
       "      <td>4.770685</td>\n",
       "      <td>Feb</td>\n",
       "      <td>1995</td>\n",
       "      <td>0</td>\n",
       "      <td>1</td>\n",
       "      <td>0</td>\n",
       "      <td>0</td>\n",
       "      <td>0</td>\n",
       "      <td>0</td>\n",
       "      <td>0</td>\n",
       "      <td>0</td>\n",
       "      <td>0</td>\n",
       "      <td>0</td>\n",
       "      <td>0</td>\n",
       "      <td>0</td>\n",
       "    </tr>\n",
       "    <tr>\n",
       "      <th>2</th>\n",
       "      <td>1995-03-01</td>\n",
       "      <td>132</td>\n",
       "      <td>3</td>\n",
       "      <td>9</td>\n",
       "      <td>4.882802</td>\n",
       "      <td>Mar</td>\n",
       "      <td>1995</td>\n",
       "      <td>0</td>\n",
       "      <td>0</td>\n",
       "      <td>1</td>\n",
       "      <td>0</td>\n",
       "      <td>0</td>\n",
       "      <td>0</td>\n",
       "      <td>0</td>\n",
       "      <td>0</td>\n",
       "      <td>0</td>\n",
       "      <td>0</td>\n",
       "      <td>0</td>\n",
       "      <td>0</td>\n",
       "    </tr>\n",
       "    <tr>\n",
       "      <th>3</th>\n",
       "      <td>1995-04-01</td>\n",
       "      <td>129</td>\n",
       "      <td>4</td>\n",
       "      <td>16</td>\n",
       "      <td>4.859812</td>\n",
       "      <td>Apr</td>\n",
       "      <td>1995</td>\n",
       "      <td>0</td>\n",
       "      <td>0</td>\n",
       "      <td>0</td>\n",
       "      <td>1</td>\n",
       "      <td>0</td>\n",
       "      <td>0</td>\n",
       "      <td>0</td>\n",
       "      <td>0</td>\n",
       "      <td>0</td>\n",
       "      <td>0</td>\n",
       "      <td>0</td>\n",
       "      <td>0</td>\n",
       "    </tr>\n",
       "    <tr>\n",
       "      <th>4</th>\n",
       "      <td>1995-05-01</td>\n",
       "      <td>121</td>\n",
       "      <td>5</td>\n",
       "      <td>25</td>\n",
       "      <td>4.795791</td>\n",
       "      <td>May</td>\n",
       "      <td>1995</td>\n",
       "      <td>0</td>\n",
       "      <td>0</td>\n",
       "      <td>0</td>\n",
       "      <td>0</td>\n",
       "      <td>1</td>\n",
       "      <td>0</td>\n",
       "      <td>0</td>\n",
       "      <td>0</td>\n",
       "      <td>0</td>\n",
       "      <td>0</td>\n",
       "      <td>0</td>\n",
       "      <td>0</td>\n",
       "    </tr>\n",
       "    <tr>\n",
       "      <th>...</th>\n",
       "      <td>...</td>\n",
       "      <td>...</td>\n",
       "      <td>...</td>\n",
       "      <td>...</td>\n",
       "      <td>...</td>\n",
       "      <td>...</td>\n",
       "      <td>...</td>\n",
       "      <td>...</td>\n",
       "      <td>...</td>\n",
       "      <td>...</td>\n",
       "      <td>...</td>\n",
       "      <td>...</td>\n",
       "      <td>...</td>\n",
       "      <td>...</td>\n",
       "      <td>...</td>\n",
       "      <td>...</td>\n",
       "      <td>...</td>\n",
       "      <td>...</td>\n",
       "      <td>...</td>\n",
       "    </tr>\n",
       "    <tr>\n",
       "      <th>79</th>\n",
       "      <td>2001-08-01</td>\n",
       "      <td>347</td>\n",
       "      <td>80</td>\n",
       "      <td>6400</td>\n",
       "      <td>5.849325</td>\n",
       "      <td>Aug</td>\n",
       "      <td>2001</td>\n",
       "      <td>0</td>\n",
       "      <td>0</td>\n",
       "      <td>0</td>\n",
       "      <td>0</td>\n",
       "      <td>0</td>\n",
       "      <td>0</td>\n",
       "      <td>0</td>\n",
       "      <td>1</td>\n",
       "      <td>0</td>\n",
       "      <td>0</td>\n",
       "      <td>0</td>\n",
       "      <td>0</td>\n",
       "    </tr>\n",
       "    <tr>\n",
       "      <th>80</th>\n",
       "      <td>2001-09-01</td>\n",
       "      <td>312</td>\n",
       "      <td>81</td>\n",
       "      <td>6561</td>\n",
       "      <td>5.743003</td>\n",
       "      <td>Sep</td>\n",
       "      <td>2001</td>\n",
       "      <td>0</td>\n",
       "      <td>0</td>\n",
       "      <td>0</td>\n",
       "      <td>0</td>\n",
       "      <td>0</td>\n",
       "      <td>0</td>\n",
       "      <td>0</td>\n",
       "      <td>0</td>\n",
       "      <td>1</td>\n",
       "      <td>0</td>\n",
       "      <td>0</td>\n",
       "      <td>0</td>\n",
       "    </tr>\n",
       "    <tr>\n",
       "      <th>81</th>\n",
       "      <td>2001-10-01</td>\n",
       "      <td>274</td>\n",
       "      <td>82</td>\n",
       "      <td>6724</td>\n",
       "      <td>5.613128</td>\n",
       "      <td>Oct</td>\n",
       "      <td>2001</td>\n",
       "      <td>0</td>\n",
       "      <td>0</td>\n",
       "      <td>0</td>\n",
       "      <td>0</td>\n",
       "      <td>0</td>\n",
       "      <td>0</td>\n",
       "      <td>0</td>\n",
       "      <td>0</td>\n",
       "      <td>0</td>\n",
       "      <td>1</td>\n",
       "      <td>0</td>\n",
       "      <td>0</td>\n",
       "    </tr>\n",
       "    <tr>\n",
       "      <th>82</th>\n",
       "      <td>2001-11-01</td>\n",
       "      <td>237</td>\n",
       "      <td>83</td>\n",
       "      <td>6889</td>\n",
       "      <td>5.468060</td>\n",
       "      <td>Nov</td>\n",
       "      <td>2001</td>\n",
       "      <td>0</td>\n",
       "      <td>0</td>\n",
       "      <td>0</td>\n",
       "      <td>0</td>\n",
       "      <td>0</td>\n",
       "      <td>0</td>\n",
       "      <td>0</td>\n",
       "      <td>0</td>\n",
       "      <td>0</td>\n",
       "      <td>0</td>\n",
       "      <td>1</td>\n",
       "      <td>0</td>\n",
       "    </tr>\n",
       "    <tr>\n",
       "      <th>83</th>\n",
       "      <td>2001-12-01</td>\n",
       "      <td>278</td>\n",
       "      <td>84</td>\n",
       "      <td>7056</td>\n",
       "      <td>5.627621</td>\n",
       "      <td>Dec</td>\n",
       "      <td>2001</td>\n",
       "      <td>0</td>\n",
       "      <td>0</td>\n",
       "      <td>0</td>\n",
       "      <td>0</td>\n",
       "      <td>0</td>\n",
       "      <td>0</td>\n",
       "      <td>0</td>\n",
       "      <td>0</td>\n",
       "      <td>0</td>\n",
       "      <td>0</td>\n",
       "      <td>0</td>\n",
       "      <td>1</td>\n",
       "    </tr>\n",
       "  </tbody>\n",
       "</table>\n",
       "<p>84 rows × 19 columns</p>\n",
       "</div>"
      ],
      "text/plain": [
       "         date  passengers   t  t_square  log_passengers months  year  Jan  \\\n",
       "0  1995-01-01         112   1         1        4.718499    Jan  1995    1   \n",
       "1  1995-02-01         118   2         4        4.770685    Feb  1995    0   \n",
       "2  1995-03-01         132   3         9        4.882802    Mar  1995    0   \n",
       "3  1995-04-01         129   4        16        4.859812    Apr  1995    0   \n",
       "4  1995-05-01         121   5        25        4.795791    May  1995    0   \n",
       "..        ...         ...  ..       ...             ...    ...   ...  ...   \n",
       "79 2001-08-01         347  80      6400        5.849325    Aug  2001    0   \n",
       "80 2001-09-01         312  81      6561        5.743003    Sep  2001    0   \n",
       "81 2001-10-01         274  82      6724        5.613128    Oct  2001    0   \n",
       "82 2001-11-01         237  83      6889        5.468060    Nov  2001    0   \n",
       "83 2001-12-01         278  84      7056        5.627621    Dec  2001    0   \n",
       "\n",
       "    Feb  Mar  Apr  May  Jun  Jul  Aug  Sep  Oct  Nov  Dec  \n",
       "0     0    0    0    0    0    0    0    0    0    0    0  \n",
       "1     1    0    0    0    0    0    0    0    0    0    0  \n",
       "2     0    1    0    0    0    0    0    0    0    0    0  \n",
       "3     0    0    1    0    0    0    0    0    0    0    0  \n",
       "4     0    0    0    1    0    0    0    0    0    0    0  \n",
       "..  ...  ...  ...  ...  ...  ...  ...  ...  ...  ...  ...  \n",
       "79    0    0    0    0    0    0    1    0    0    0    0  \n",
       "80    0    0    0    0    0    0    0    1    0    0    0  \n",
       "81    0    0    0    0    0    0    0    0    1    0    0  \n",
       "82    0    0    0    0    0    0    0    0    0    1    0  \n",
       "83    0    0    0    0    0    0    0    0    0    0    1  \n",
       "\n",
       "[84 rows x 19 columns]"
      ]
     },
     "execution_count": 61,
     "metadata": {},
     "output_type": "execute_result"
    }
   ],
   "source": [
    "ap_data_mdf1 = ap_data_mdf.head(84)\n",
    "print(ap_data_mdf1.shape)\n",
    "ap_data_mdf1"
   ]
  },
  {
   "cell_type": "code",
   "execution_count": 62,
   "id": "531482ce",
   "metadata": {
    "ExecuteTime": {
     "end_time": "2023-02-11T09:43:40.667305Z",
     "start_time": "2023-02-11T09:43:40.599963Z"
    }
   },
   "outputs": [],
   "source": [
    "#picked the model with the lowest RMSE value\n",
    "#training the model on the entire dataset\n",
    "final_model = smf.ols('log_passengers~t+Jan+Feb+Mar+Apr+May+Jun+Jul+Aug+Sep+Oct+Nov+Dec',data = ap_data_mdf1).fit()"
   ]
  },
  {
   "cell_type": "code",
   "execution_count": 63,
   "id": "65a87f0d",
   "metadata": {
    "ExecuteTime": {
     "end_time": "2023-02-11T09:43:40.745684Z",
     "start_time": "2023-02-11T09:43:40.672726Z"
    }
   },
   "outputs": [
    {
     "data": {
      "text/plain": [
       "84    5.632141\n",
       "85    5.647734\n",
       "86    5.792098\n",
       "87    5.756366\n",
       "88    5.746648\n",
       "89    5.865009\n",
       "90    5.972273\n",
       "91    5.972648\n",
       "92    5.865485\n",
       "93    5.738005\n",
       "94    5.606271\n",
       "95    5.744972\n",
       "dtype: float64"
      ]
     },
     "execution_count": 63,
     "metadata": {},
     "output_type": "execute_result"
    }
   ],
   "source": [
    "predicted_new = final_model.predict(new_data)\n",
    "predicted_new"
   ]
  },
  {
   "cell_type": "code",
   "execution_count": 64,
   "id": "dd905bc1",
   "metadata": {
    "ExecuteTime": {
     "end_time": "2023-02-11T09:43:40.854568Z",
     "start_time": "2023-02-11T09:43:40.751043Z"
    }
   },
   "outputs": [
    {
     "data": {
      "text/html": [
       "<div>\n",
       "<style scoped>\n",
       "    .dataframe tbody tr th:only-of-type {\n",
       "        vertical-align: middle;\n",
       "    }\n",
       "\n",
       "    .dataframe tbody tr th {\n",
       "        vertical-align: top;\n",
       "    }\n",
       "\n",
       "    .dataframe thead th {\n",
       "        text-align: right;\n",
       "    }\n",
       "</style>\n",
       "<table border=\"1\" class=\"dataframe\">\n",
       "  <thead>\n",
       "    <tr style=\"text-align: right;\">\n",
       "      <th></th>\n",
       "      <th>date</th>\n",
       "      <th>t</th>\n",
       "      <th>t_square</th>\n",
       "      <th>Jan</th>\n",
       "      <th>Feb</th>\n",
       "      <th>Mar</th>\n",
       "      <th>Apr</th>\n",
       "      <th>May</th>\n",
       "      <th>Jun</th>\n",
       "      <th>Jul</th>\n",
       "      <th>Aug</th>\n",
       "      <th>Sep</th>\n",
       "      <th>Oct</th>\n",
       "      <th>Nov</th>\n",
       "      <th>Dec</th>\n",
       "      <th>forecasted_passengers</th>\n",
       "    </tr>\n",
       "  </thead>\n",
       "  <tbody>\n",
       "    <tr>\n",
       "      <th>84</th>\n",
       "      <td>2002-01-01</td>\n",
       "      <td>85</td>\n",
       "      <td>7225</td>\n",
       "      <td>1</td>\n",
       "      <td>0</td>\n",
       "      <td>0</td>\n",
       "      <td>0</td>\n",
       "      <td>0</td>\n",
       "      <td>0</td>\n",
       "      <td>0</td>\n",
       "      <td>0</td>\n",
       "      <td>0</td>\n",
       "      <td>0</td>\n",
       "      <td>0</td>\n",
       "      <td>0</td>\n",
       "      <td>5.632141</td>\n",
       "    </tr>\n",
       "    <tr>\n",
       "      <th>85</th>\n",
       "      <td>2002-02-01</td>\n",
       "      <td>86</td>\n",
       "      <td>7396</td>\n",
       "      <td>0</td>\n",
       "      <td>1</td>\n",
       "      <td>0</td>\n",
       "      <td>0</td>\n",
       "      <td>0</td>\n",
       "      <td>0</td>\n",
       "      <td>0</td>\n",
       "      <td>0</td>\n",
       "      <td>0</td>\n",
       "      <td>0</td>\n",
       "      <td>0</td>\n",
       "      <td>0</td>\n",
       "      <td>5.647734</td>\n",
       "    </tr>\n",
       "    <tr>\n",
       "      <th>86</th>\n",
       "      <td>2002-03-01</td>\n",
       "      <td>87</td>\n",
       "      <td>7569</td>\n",
       "      <td>0</td>\n",
       "      <td>0</td>\n",
       "      <td>1</td>\n",
       "      <td>0</td>\n",
       "      <td>0</td>\n",
       "      <td>0</td>\n",
       "      <td>0</td>\n",
       "      <td>0</td>\n",
       "      <td>0</td>\n",
       "      <td>0</td>\n",
       "      <td>0</td>\n",
       "      <td>0</td>\n",
       "      <td>5.792098</td>\n",
       "    </tr>\n",
       "    <tr>\n",
       "      <th>87</th>\n",
       "      <td>2002-04-01</td>\n",
       "      <td>88</td>\n",
       "      <td>7744</td>\n",
       "      <td>0</td>\n",
       "      <td>0</td>\n",
       "      <td>0</td>\n",
       "      <td>1</td>\n",
       "      <td>0</td>\n",
       "      <td>0</td>\n",
       "      <td>0</td>\n",
       "      <td>0</td>\n",
       "      <td>0</td>\n",
       "      <td>0</td>\n",
       "      <td>0</td>\n",
       "      <td>0</td>\n",
       "      <td>5.756366</td>\n",
       "    </tr>\n",
       "    <tr>\n",
       "      <th>88</th>\n",
       "      <td>2002-05-01</td>\n",
       "      <td>89</td>\n",
       "      <td>7921</td>\n",
       "      <td>0</td>\n",
       "      <td>0</td>\n",
       "      <td>0</td>\n",
       "      <td>0</td>\n",
       "      <td>1</td>\n",
       "      <td>0</td>\n",
       "      <td>0</td>\n",
       "      <td>0</td>\n",
       "      <td>0</td>\n",
       "      <td>0</td>\n",
       "      <td>0</td>\n",
       "      <td>0</td>\n",
       "      <td>5.746648</td>\n",
       "    </tr>\n",
       "    <tr>\n",
       "      <th>89</th>\n",
       "      <td>2002-06-01</td>\n",
       "      <td>90</td>\n",
       "      <td>8100</td>\n",
       "      <td>0</td>\n",
       "      <td>0</td>\n",
       "      <td>0</td>\n",
       "      <td>0</td>\n",
       "      <td>0</td>\n",
       "      <td>1</td>\n",
       "      <td>0</td>\n",
       "      <td>0</td>\n",
       "      <td>0</td>\n",
       "      <td>0</td>\n",
       "      <td>0</td>\n",
       "      <td>0</td>\n",
       "      <td>5.865009</td>\n",
       "    </tr>\n",
       "    <tr>\n",
       "      <th>90</th>\n",
       "      <td>2002-07-01</td>\n",
       "      <td>91</td>\n",
       "      <td>8281</td>\n",
       "      <td>0</td>\n",
       "      <td>0</td>\n",
       "      <td>0</td>\n",
       "      <td>0</td>\n",
       "      <td>0</td>\n",
       "      <td>0</td>\n",
       "      <td>1</td>\n",
       "      <td>0</td>\n",
       "      <td>0</td>\n",
       "      <td>0</td>\n",
       "      <td>0</td>\n",
       "      <td>0</td>\n",
       "      <td>5.972273</td>\n",
       "    </tr>\n",
       "    <tr>\n",
       "      <th>91</th>\n",
       "      <td>2002-08-01</td>\n",
       "      <td>92</td>\n",
       "      <td>8464</td>\n",
       "      <td>0</td>\n",
       "      <td>0</td>\n",
       "      <td>0</td>\n",
       "      <td>0</td>\n",
       "      <td>0</td>\n",
       "      <td>0</td>\n",
       "      <td>0</td>\n",
       "      <td>1</td>\n",
       "      <td>0</td>\n",
       "      <td>0</td>\n",
       "      <td>0</td>\n",
       "      <td>0</td>\n",
       "      <td>5.972648</td>\n",
       "    </tr>\n",
       "    <tr>\n",
       "      <th>92</th>\n",
       "      <td>2002-09-01</td>\n",
       "      <td>93</td>\n",
       "      <td>8649</td>\n",
       "      <td>0</td>\n",
       "      <td>0</td>\n",
       "      <td>0</td>\n",
       "      <td>0</td>\n",
       "      <td>0</td>\n",
       "      <td>0</td>\n",
       "      <td>0</td>\n",
       "      <td>0</td>\n",
       "      <td>1</td>\n",
       "      <td>0</td>\n",
       "      <td>0</td>\n",
       "      <td>0</td>\n",
       "      <td>5.865485</td>\n",
       "    </tr>\n",
       "    <tr>\n",
       "      <th>93</th>\n",
       "      <td>2002-10-01</td>\n",
       "      <td>94</td>\n",
       "      <td>8836</td>\n",
       "      <td>0</td>\n",
       "      <td>0</td>\n",
       "      <td>0</td>\n",
       "      <td>0</td>\n",
       "      <td>0</td>\n",
       "      <td>0</td>\n",
       "      <td>0</td>\n",
       "      <td>0</td>\n",
       "      <td>0</td>\n",
       "      <td>1</td>\n",
       "      <td>0</td>\n",
       "      <td>0</td>\n",
       "      <td>5.738005</td>\n",
       "    </tr>\n",
       "    <tr>\n",
       "      <th>94</th>\n",
       "      <td>2002-11-01</td>\n",
       "      <td>95</td>\n",
       "      <td>9025</td>\n",
       "      <td>0</td>\n",
       "      <td>0</td>\n",
       "      <td>0</td>\n",
       "      <td>0</td>\n",
       "      <td>0</td>\n",
       "      <td>0</td>\n",
       "      <td>0</td>\n",
       "      <td>0</td>\n",
       "      <td>0</td>\n",
       "      <td>0</td>\n",
       "      <td>1</td>\n",
       "      <td>0</td>\n",
       "      <td>5.606271</td>\n",
       "    </tr>\n",
       "    <tr>\n",
       "      <th>95</th>\n",
       "      <td>2002-12-01</td>\n",
       "      <td>96</td>\n",
       "      <td>9216</td>\n",
       "      <td>0</td>\n",
       "      <td>0</td>\n",
       "      <td>0</td>\n",
       "      <td>0</td>\n",
       "      <td>0</td>\n",
       "      <td>0</td>\n",
       "      <td>0</td>\n",
       "      <td>0</td>\n",
       "      <td>0</td>\n",
       "      <td>0</td>\n",
       "      <td>0</td>\n",
       "      <td>1</td>\n",
       "      <td>5.744972</td>\n",
       "    </tr>\n",
       "  </tbody>\n",
       "</table>\n",
       "</div>"
      ],
      "text/plain": [
       "         date   t  t_square  Jan  Feb  Mar  Apr  May  Jun  Jul  Aug  Sep  Oct  \\\n",
       "84 2002-01-01  85      7225    1    0    0    0    0    0    0    0    0    0   \n",
       "85 2002-02-01  86      7396    0    1    0    0    0    0    0    0    0    0   \n",
       "86 2002-03-01  87      7569    0    0    1    0    0    0    0    0    0    0   \n",
       "87 2002-04-01  88      7744    0    0    0    1    0    0    0    0    0    0   \n",
       "88 2002-05-01  89      7921    0    0    0    0    1    0    0    0    0    0   \n",
       "89 2002-06-01  90      8100    0    0    0    0    0    1    0    0    0    0   \n",
       "90 2002-07-01  91      8281    0    0    0    0    0    0    1    0    0    0   \n",
       "91 2002-08-01  92      8464    0    0    0    0    0    0    0    1    0    0   \n",
       "92 2002-09-01  93      8649    0    0    0    0    0    0    0    0    1    0   \n",
       "93 2002-10-01  94      8836    0    0    0    0    0    0    0    0    0    1   \n",
       "94 2002-11-01  95      9025    0    0    0    0    0    0    0    0    0    0   \n",
       "95 2002-12-01  96      9216    0    0    0    0    0    0    0    0    0    0   \n",
       "\n",
       "    Nov  Dec  forecasted_passengers  \n",
       "84    0    0               5.632141  \n",
       "85    0    0               5.647734  \n",
       "86    0    0               5.792098  \n",
       "87    0    0               5.756366  \n",
       "88    0    0               5.746648  \n",
       "89    0    0               5.865009  \n",
       "90    0    0               5.972273  \n",
       "91    0    0               5.972648  \n",
       "92    0    0               5.865485  \n",
       "93    0    0               5.738005  \n",
       "94    1    0               5.606271  \n",
       "95    0    1               5.744972  "
      ]
     },
     "execution_count": 64,
     "metadata": {},
     "output_type": "execute_result"
    }
   ],
   "source": [
    "new_data['forecasted_passengers'] = predicted_new\n",
    "new_data"
   ]
  },
  {
   "cell_type": "code",
   "execution_count": 65,
   "id": "af8b876c",
   "metadata": {
    "ExecuteTime": {
     "end_time": "2023-02-11T09:43:41.394553Z",
     "start_time": "2023-02-11T09:43:40.860690Z"
    }
   },
   "outputs": [
    {
     "data": {
      "text/plain": [
       "<AxesSubplot:>"
      ]
     },
     "execution_count": 65,
     "metadata": {},
     "output_type": "execute_result"
    },
    {
     "data": {
      "image/png": "[encoded data removed]",
      "text/plain": [
       "<Figure size 432x288 with 1 Axes>"
      ]
     },
     "metadata": {},
     "output_type": "display_data"
    }
   ],
   "source": [
    "new_var = pd.concat([ap_data_mdf1,new_data])\n",
    "new_var[['log_passengers','forecasted_passengers']].reset_index(drop=True).plot()"
   ]
  }
 ],
 "metadata": {
  "kernelspec": {
   "display_name": "Python 3 (ipykernel)",
   "language": "python",
   "name": "python3"
  },
  "language_info": {
   "codemirror_mode": {
    "name": "ipython",
    "version": 3
   },
   "file_extension": ".py",
   "mimetype": "text/x-python",
   "name": "python",
   "nbconvert_exporter": "python",
   "pygments_lexer": "ipython3",
   "version": "3.9.12"
  }
 },
 "nbformat": 4,
 "nbformat_minor": 5
}
